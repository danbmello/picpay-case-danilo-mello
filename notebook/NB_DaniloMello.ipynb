{
 "cells": [
  {
   "cell_type": "code",
   "execution_count": 1,
   "id": "e9d1393f-88c5-4ce3-8d18-4ba8988b11cd",
   "metadata": {},
   "outputs": [],
   "source": [
    "import findspark"
   ]
  },
  {
   "cell_type": "code",
   "execution_count": 2,
   "id": "b72e493e-29d8-4162-957d-a5c1b5a5af42",
   "metadata": {},
   "outputs": [],
   "source": [
    "findspark.init('/home/dbmello/spark-3.5.3-bin-hadoop3')"
   ]
  },
  {
   "cell_type": "code",
   "execution_count": 3,
   "id": "b5ae7ec5-918e-4983-a33e-1b7e5471de7e",
   "metadata": {},
   "outputs": [],
   "source": [
    "from pyspark.sql import SparkSession"
   ]
  },
  {
   "cell_type": "code",
   "execution_count": 4,
   "id": "ed61d7e2-a23f-4304-aed7-488d68361ac3",
   "metadata": {},
   "outputs": [
    {
     "name": "stderr",
     "output_type": "stream",
     "text": [
      "24/10/22 11:04:07 WARN Utils: Your hostname, dbmello-VirtualBox resolves to a loopback address: 127.0.1.1; using 10.0.0.230 instead (on interface enp0s3)\n",
      "24/10/22 11:04:07 WARN Utils: Set SPARK_LOCAL_IP if you need to bind to another address\n",
      "Setting default log level to \"WARN\".\n",
      "To adjust logging level use sc.setLogLevel(newLevel). For SparkR, use setLogLevel(newLevel).\n",
      "24/10/22 11:04:09 WARN NativeCodeLoader: Unable to load native-hadoop library for your platform... using builtin-java classes where applicable\n"
     ]
    }
   ],
   "source": [
    "spark = SparkSession.builder.appName('airports').getOrCreate()"
   ]
  },
  {
   "cell_type": "code",
   "execution_count": 5,
   "id": "6204044c-d4b9-49e9-9b22-1fc997279967",
   "metadata": {},
   "outputs": [],
   "source": [
    "spark.sparkContext.setLogLevel(\"ERROR\")"
   ]
  },
  {
   "cell_type": "markdown",
   "id": "8218140e-3ad2-45c0-8be9-40dad71289c0",
   "metadata": {
    "jp-MarkdownHeadingCollapsed": true
   },
   "source": [
    "# 1. <span style=\"color: darkblue;\">Extract, Treat and Load</span>"
   ]
  },
  {
   "cell_type": "markdown",
   "id": "10dcffa4-ee1b-4e46-b754-0b98fa13a40c",
   "metadata": {
    "jp-MarkdownHeadingCollapsed": true
   },
   "source": [
    "## 1.1 Extract"
   ]
  },
  {
   "cell_type": "code",
   "execution_count": 6,
   "id": "f658a378-abd1-48bc-98f3-9d15e26e25b2",
   "metadata": {},
   "outputs": [
    {
     "name": "stderr",
     "output_type": "stream",
     "text": [
      "                                                                                \r"
     ]
    }
   ],
   "source": [
    "df_airports_db = spark.read.csv('./data/airports-database.csv', inferSchema=True, header=True)"
   ]
  },
  {
   "cell_type": "code",
   "execution_count": 7,
   "id": "5ff4e321-e3ec-4054-b916-4cf8e7f08008",
   "metadata": {},
   "outputs": [
    {
     "name": "stdout",
     "output_type": "stream",
     "text": [
      "root\n",
      " |-- id: integer (nullable = true)\n",
      " |-- year: integer (nullable = true)\n",
      " |-- month: integer (nullable = true)\n",
      " |-- day: integer (nullable = true)\n",
      " |-- dep_time: double (nullable = true)\n",
      " |-- sched_dep_time: integer (nullable = true)\n",
      " |-- dep_delay: double (nullable = true)\n",
      " |-- arr_time: double (nullable = true)\n",
      " |-- sched_arr_time: integer (nullable = true)\n",
      " |-- arr_delay: double (nullable = true)\n",
      " |-- carrier: string (nullable = true)\n",
      " |-- flight: integer (nullable = true)\n",
      " |-- tailnum: string (nullable = true)\n",
      " |-- origin: string (nullable = true)\n",
      " |-- dest: string (nullable = true)\n",
      " |-- air_time: double (nullable = true)\n",
      " |-- distance: integer (nullable = true)\n",
      " |-- hour: integer (nullable = true)\n",
      " |-- minute: integer (nullable = true)\n",
      " |-- time_hour: timestamp (nullable = true)\n",
      " |-- name: string (nullable = true)\n",
      "\n"
     ]
    }
   ],
   "source": [
    "df_airports_db.printSchema()"
   ]
  },
  {
   "cell_type": "code",
   "execution_count": 8,
   "id": "57c4193c-e22b-4d38-9ad8-176918e7d9ae",
   "metadata": {},
   "outputs": [
    {
     "data": {
      "text/plain": [
       "[Row(id=0, year=2013, month=1, day=1, dep_time=517.0, sched_dep_time=515, dep_delay=2.0, arr_time=830.0, sched_arr_time=819, arr_delay=11.0, carrier='UA', flight=1545, tailnum='N14228', origin='EWR', dest='IAH', air_time=227.0, distance=1400, hour=5, minute=15, time_hour=datetime.datetime(2013, 1, 1, 5, 0), name='United Air Lines Inc.')]"
      ]
     },
     "execution_count": 8,
     "metadata": {},
     "output_type": "execute_result"
    }
   ],
   "source": [
    "df_airports_db.head(1)"
   ]
  },
  {
   "cell_type": "code",
   "execution_count": 9,
   "id": "d3f308df-8590-41ba-8897-4c08ae6c744a",
   "metadata": {},
   "outputs": [
    {
     "data": {
      "text/plain": [
       "336776"
      ]
     },
     "execution_count": 9,
     "metadata": {},
     "output_type": "execute_result"
    }
   ],
   "source": [
    "df_airports_db.count()"
   ]
  },
  {
   "cell_type": "code",
   "execution_count": 10,
   "id": "b9345fa5-efea-4822-bdf6-3ee5bfcaa6cf",
   "metadata": {},
   "outputs": [
    {
     "name": "stderr",
     "output_type": "stream",
     "text": [
      "[Stage 8:>                                                          (0 + 1) / 1]\r"
     ]
    },
    {
     "name": "stdout",
     "output_type": "stream",
     "text": [
      "+-------+----------+----------+----------+----------+----------+----------+----------+----------+----------+\n",
      "|summary|      year|     month|       day|  dep_time| dep_delay|  arr_time| arr_delay|  air_time|  distance|\n",
      "+-------+----------+----------+----------+----------+----------+----------+----------+----------+----------+\n",
      "|  count|336,776.00|336,776.00|336,776.00|328,521.00|328,521.00|328,063.00|327,346.00|327,346.00|336,776.00|\n",
      "|   mean|  2,013.00|      6.55|     15.71|  1,349.11|     12.64|  1,502.06|      6.90|    150.69|  1,039.91|\n",
      "| stddev|      0.00|      3.41|      8.77|    488.28|     40.21|    533.26|     44.63|     93.69|    733.23|\n",
      "|    min|  2,013.00|      1.00|      1.00|      1.00|    -43.00|      1.00|    -86.00|     20.00|     17.00|\n",
      "|    max|  2,013.00|     12.00|     31.00|  2,400.00|  1,301.00|  2,400.00|  1,272.00|    695.00|  4,983.00|\n",
      "+-------+----------+----------+----------+----------+----------+----------+----------+----------+----------+\n",
      "\n"
     ]
    },
    {
     "name": "stderr",
     "output_type": "stream",
     "text": [
      "                                                                                \r"
     ]
    }
   ],
   "source": [
    "from pyspark.sql.functions import format_number\n",
    "\n",
    "describe_df = df_airports_db.describe()\n",
    "\n",
    "# Formata variáveis numéricas para exibir somente 2 casas decimais\n",
    "formatted_df = describe_df.select(\n",
    "    describe_df[\"summary\"],\n",
    "    format_number(describe_df['year'].cast(\"float\"), 2).alias(\"year\"),\n",
    "    format_number(describe_df['month'].cast(\"float\"), 2).alias(\"month\"),\n",
    "    format_number(describe_df['day'].cast(\"float\"), 2).alias(\"day\"),\n",
    "    format_number(describe_df['dep_time'].cast(\"float\"), 2).alias(\"dep_time\"),\n",
    "    format_number(describe_df['dep_delay'].cast(\"float\"), 2).alias(\"dep_delay\"),\n",
    "    format_number(describe_df['arr_time'].cast(\"float\"), 2).alias(\"arr_time\"),\n",
    "    format_number(describe_df['arr_delay'].cast(\"float\"), 2).alias(\"arr_delay\"),\n",
    "    format_number(describe_df['air_time'].cast(\"float\"), 2).alias(\"air_time\"),\n",
    "    format_number(describe_df['distance'].cast(\"float\"), 2).alias(\"distance\")\n",
    ")\n",
    "\n",
    "formatted_df.show()"
   ]
  },
  {
   "cell_type": "markdown",
   "id": "0cfc018f-ff97-4a0e-8809-238e3c00a4b2",
   "metadata": {
    "jp-MarkdownHeadingCollapsed": true
   },
   "source": [
    "### 1.1.1 Dados Duplicados"
   ]
  },
  {
   "cell_type": "code",
   "execution_count": 11,
   "id": "339b0b53-d09e-4521-9c41-0417fa892a09",
   "metadata": {},
   "outputs": [
    {
     "name": "stderr",
     "output_type": "stream",
     "text": [
      "                                                                                \r"
     ]
    },
    {
     "data": {
      "text/plain": [
       "True"
      ]
     },
     "execution_count": 11,
     "metadata": {},
     "output_type": "execute_result"
    }
   ],
   "source": [
    "df_airports_db.count() == df_airports_db.dropDuplicates().count()"
   ]
  },
  {
   "cell_type": "markdown",
   "id": "7f40a902-198e-4730-afae-827d84f07570",
   "metadata": {},
   "source": [
    "**Não há dados duplicados.**"
   ]
  },
  {
   "cell_type": "markdown",
   "id": "ab44f89d-21ad-4db3-8605-8cea780c13d5",
   "metadata": {
    "jp-MarkdownHeadingCollapsed": true
   },
   "source": [
    "### 1.1.2 Missing Data"
   ]
  },
  {
   "cell_type": "markdown",
   "id": "8cc43148-ecb7-4eeb-ac42-5ecb85320cd5",
   "metadata": {},
   "source": [
    "#### Missing Data Helper Function print_missing_data()"
   ]
  },
  {
   "cell_type": "code",
   "execution_count": 12,
   "id": "2c418a7e-950f-4f0c-8dcd-816031ae6d7f",
   "metadata": {},
   "outputs": [],
   "source": [
    "# from pyspark.sql.functions import col, sum\n",
    "from pyspark.sql import functions as F\n",
    "\n",
    "def print_missing_data(df):\n",
    "    null_counts = df.select([F.sum(F.col(c).isNull().cast(\"int\")).alias(c) for c in df.columns])\n",
    "    filtered_null_counts = null_counts.select([F.col(c) for c in null_counts.columns if null_counts.select(F.col(c)).first()[0] > 0])\n",
    "    filtered_null_counts.show()"
   ]
  },
  {
   "cell_type": "code",
   "execution_count": 13,
   "id": "1b01bad9-f5dc-43eb-b3e3-6d1d3dda8ed0",
   "metadata": {},
   "outputs": [
    {
     "name": "stderr",
     "output_type": "stream",
     "text": [
      "[Stage 81:=============================>                            (1 + 1) / 2]\r"
     ]
    },
    {
     "name": "stdout",
     "output_type": "stream",
     "text": [
      "+--------+---------+--------+---------+-------+--------+\n",
      "|dep_time|dep_delay|arr_time|arr_delay|tailnum|air_time|\n",
      "+--------+---------+--------+---------+-------+--------+\n",
      "|    8255|     8255|    8713|     9430|   2512|    9430|\n",
      "+--------+---------+--------+---------+-------+--------+\n",
      "\n"
     ]
    },
    {
     "name": "stderr",
     "output_type": "stream",
     "text": [
      "                                                                                \r"
     ]
    }
   ],
   "source": [
    "print_missing_data(df_airports_db)"
   ]
  },
  {
   "cell_type": "markdown",
   "id": "49260adc-3651-4367-a8fc-921211cdafa0",
   "metadata": {},
   "source": [
    "#### Voos cancelados"
   ]
  },
  {
   "cell_type": "code",
   "execution_count": 14,
   "id": "180b6a74-e068-47c5-81a0-4acc937e65a8",
   "metadata": {},
   "outputs": [],
   "source": [
    "df_cancel = df_airports_db.filter((df_airports_db.dep_time.isNull()) & (df_airports_db.arr_time.isNull()))"
   ]
  },
  {
   "cell_type": "code",
   "execution_count": 15,
   "id": "7577bf77-d91e-40f5-824f-71546ca3421d",
   "metadata": {},
   "outputs": [
    {
     "name": "stderr",
     "output_type": "stream",
     "text": [
      "                                                                                \r"
     ]
    },
    {
     "data": {
      "text/plain": [
       "8255"
      ]
     },
     "execution_count": 15,
     "metadata": {},
     "output_type": "execute_result"
    }
   ],
   "source": [
    "df_cancel.count()"
   ]
  },
  {
   "cell_type": "markdown",
   "id": "3986945c-3fa3-457c-8d54-539871f5b2cb",
   "metadata": {},
   "source": [
    "#### Voos Realizados"
   ]
  },
  {
   "cell_type": "code",
   "execution_count": 16,
   "id": "be2fd5ce-47a4-48f0-8262-9e27ba0cfce8",
   "metadata": {},
   "outputs": [],
   "source": [
    "df_real = df_airports_db.filter((df_airports_db.dep_time.isNotNull()) | (df_airports_db.arr_time.isNotNull()))"
   ]
  },
  {
   "cell_type": "code",
   "execution_count": 17,
   "id": "7be6f975-7597-4f94-89c2-c2b06ecbbe6f",
   "metadata": {},
   "outputs": [
    {
     "name": "stderr",
     "output_type": "stream",
     "text": [
      "                                                                                \r"
     ]
    },
    {
     "data": {
      "text/plain": [
       "328521"
      ]
     },
     "execution_count": 17,
     "metadata": {},
     "output_type": "execute_result"
    }
   ],
   "source": [
    "df_real.count()"
   ]
  },
  {
   "cell_type": "code",
   "execution_count": 18,
   "id": "8222e302-0cc0-49b8-ac71-e71c038ecd0c",
   "metadata": {},
   "outputs": [
    {
     "name": "stderr",
     "output_type": "stream",
     "text": [
      "[Stage 153:============================>                            (1 + 1) / 2]\r"
     ]
    },
    {
     "name": "stdout",
     "output_type": "stream",
     "text": [
      "+--------+---------+--------+\n",
      "|arr_time|arr_delay|air_time|\n",
      "+--------+---------+--------+\n",
      "|     458|     1175|    1175|\n",
      "+--------+---------+--------+\n",
      "\n"
     ]
    },
    {
     "name": "stderr",
     "output_type": "stream",
     "text": [
      "                                                                                \r"
     ]
    }
   ],
   "source": [
    "print_missing_data(df_real)"
   ]
  },
  {
   "cell_type": "code",
   "execution_count": 19,
   "id": "79535b93-0290-44d8-95dd-6b07ebc8e50d",
   "metadata": {},
   "outputs": [],
   "source": [
    "df = df_real.na.drop(how='any')"
   ]
  },
  {
   "cell_type": "code",
   "execution_count": 20,
   "id": "478e128c-c654-4719-be35-88fb0cab00d7",
   "metadata": {},
   "outputs": [
    {
     "name": "stderr",
     "output_type": "stream",
     "text": [
      "                                                                                \r"
     ]
    },
    {
     "data": {
      "text/plain": [
       "327346"
      ]
     },
     "execution_count": 20,
     "metadata": {},
     "output_type": "execute_result"
    }
   ],
   "source": [
    "df.count()"
   ]
  },
  {
   "cell_type": "markdown",
   "id": "3e19ea7c-b49a-4346-85c6-1cf13ee09351",
   "metadata": {
    "jp-MarkdownHeadingCollapsed": true
   },
   "source": [
    "## 1.2 Treat"
   ]
  },
  {
   "cell_type": "markdown",
   "id": "0b6265d4-76f6-4c77-a8d1-7f5f6730be06",
   "metadata": {
    "jp-MarkdownHeadingCollapsed": true
   },
   "source": [
    "### 1.2.1 Datetime formats"
   ]
  },
  {
   "cell_type": "code",
   "execution_count": 21,
   "id": "451fdf0b-553d-4448-b958-ad2538927749",
   "metadata": {},
   "outputs": [
    {
     "name": "stdout",
     "output_type": "stream",
     "text": [
      "root\n",
      " |-- id: integer (nullable = true)\n",
      " |-- year: integer (nullable = true)\n",
      " |-- month: integer (nullable = true)\n",
      " |-- day: integer (nullable = true)\n",
      " |-- dep_time: double (nullable = true)\n",
      " |-- sched_dep_time: integer (nullable = true)\n",
      " |-- dep_delay: double (nullable = true)\n",
      " |-- arr_time: double (nullable = true)\n",
      " |-- sched_arr_time: integer (nullable = true)\n",
      " |-- arr_delay: double (nullable = true)\n",
      " |-- carrier: string (nullable = true)\n",
      " |-- flight: integer (nullable = true)\n",
      " |-- tailnum: string (nullable = true)\n",
      " |-- origin: string (nullable = true)\n",
      " |-- dest: string (nullable = true)\n",
      " |-- air_time: double (nullable = true)\n",
      " |-- distance: integer (nullable = true)\n",
      " |-- hour: integer (nullable = true)\n",
      " |-- minute: integer (nullable = true)\n",
      " |-- time_hour: timestamp (nullable = true)\n",
      " |-- name: string (nullable = true)\n",
      "\n"
     ]
    }
   ],
   "source": [
    "df.printSchema()"
   ]
  },
  {
   "cell_type": "code",
   "execution_count": 22,
   "id": "fa95ce04-7811-45b1-933b-87a80fdcc7fc",
   "metadata": {},
   "outputs": [],
   "source": [
    "from pyspark.sql import functions as F\n",
    "from pyspark.sql.functions import concat_ws, col, lpad, to_date, concat, lit, to_timestamp, expr\n",
    "\n",
    "# ORIGEM ******************************************************************************************\n",
    "\n",
    "# Data Programada Voo Origem\n",
    "df = df.withColumn('sched_dep_date', \n",
    "                   to_date(concat_ws('-', F.col('year'), \n",
    "                                    lpad(F.col('month'), 2, '0'), \n",
    "                                    lpad(F.col('day'), 2, '0')), 'yyyy-MM-dd'))\n",
    "\n",
    "# Hora Programada Voo Origem\n",
    "df = df.withColumn('sched_dep_hour', F.floor(df.sched_dep_time / 100)) \\\n",
    "        .withColumn('sched_dep_minute', df.sched_dep_time % 100) \\\n",
    "        .withColumn('sched_dep_time_frmt', \n",
    "                   F.concat(F.lpad(F.col('sched_dep_hour'), 2, '0'), \n",
    "                            F.lit(':'), \n",
    "                            F.lpad(F.col('sched_dep_minute'), 2, '0')))\n",
    "\n",
    "# Datetime Programado Voo Origem\n",
    "df = df.withColumn('sched_dep_timestamp', \n",
    "               concat(df.sched_dep_date, lit(' '), df.sched_dep_time_frmt)) \\\n",
    "        .withColumn('sched_dep_timestamp', \n",
    "               to_timestamp(F.col('sched_dep_timestamp'), 'yyyy-MM-dd HH:mm'))\n",
    "\n",
    "# Data Realizada Voo Origem\n",
    "df = df.withColumn('dep_timestamp', expr(\"sched_dep_timestamp + dep_delay * interval 1 minute\"))\n",
    "df = df.withColumn('dep_timestamp', \n",
    "               to_timestamp(df.dep_timestamp, 'yyyy-MM-dd HH:mm')) \\\n",
    "        .withColumn('dep_date', to_date(F.col('dep_timestamp'), 'yyyy-MM-dd'))\n",
    "\n",
    "\n",
    "# DESTINO ******************************************************************************************\n",
    "\n",
    "# Data Realizada Voo Destino\n",
    "df = df.withColumn('arr_date_timestamp', expr(\"dep_timestamp + air_time * interval 1 minute\"))\n",
    "df = df.withColumn('arr_date', to_date('arr_date_timestamp', 'yyyy-MM-dd'))\n",
    "\n",
    "# Hora Realizada Voo Destino\n",
    "df = df.withColumn('arr_hour', F.floor(df.arr_time / 100)) \\\n",
    "        .withColumn('arr_minute', df.arr_time % 100) \\\n",
    "        .withColumn('arr_time_frmt', \n",
    "                   F.concat(F.lpad(F.col('arr_hour'), 2, '0'), \n",
    "                            F.lit(':'), \n",
    "                            F.lpad(F.col('arr_minute'), 2, '0')))\n",
    "\n",
    "# Step 3: Combine flight_date and sched_dep_time to create a full timestamp\n",
    "df = df.withColumn('arr_timestamp', \n",
    "               concat(df.arr_date, lit(' '), df.arr_time_frmt)) \\\n",
    "        .withColumn('arr_timestamp', \n",
    "               to_timestamp(F.col('arr_timestamp'), 'yyyy-MM-dd HH:mm'))"
   ]
  },
  {
   "cell_type": "code",
   "execution_count": 23,
   "id": "bf051ce7-e4c3-4432-8152-176355594cb4",
   "metadata": {},
   "outputs": [],
   "source": [
    "df = df.select('id',\n",
    "            'dep_date',\n",
    "            'dep_timestamp',\n",
    "            'dep_delay',\n",
    "            'arr_date',\n",
    "            'arr_timestamp',\n",
    "            'arr_delay',\n",
    "            'origin',\n",
    "            'dest',\n",
    "            'carrier',\n",
    "            'name',\n",
    "            'tailnum',\n",
    "            'flight',\n",
    "            'air_time',\n",
    "            'distance')"
   ]
  },
  {
   "cell_type": "code",
   "execution_count": 24,
   "id": "a1a02980-d7db-418e-ae12-ddf44368cbea",
   "metadata": {},
   "outputs": [
    {
     "data": {
      "text/plain": [
       "[('id', 'int'),\n",
       " ('dep_date', 'date'),\n",
       " ('dep_timestamp', 'timestamp'),\n",
       " ('dep_delay', 'double'),\n",
       " ('arr_date', 'date'),\n",
       " ('arr_timestamp', 'timestamp'),\n",
       " ('arr_delay', 'double'),\n",
       " ('origin', 'string'),\n",
       " ('dest', 'string'),\n",
       " ('carrier', 'string'),\n",
       " ('name', 'string'),\n",
       " ('tailnum', 'string'),\n",
       " ('flight', 'int'),\n",
       " ('air_time', 'double'),\n",
       " ('distance', 'int')]"
      ]
     },
     "execution_count": 24,
     "metadata": {},
     "output_type": "execute_result"
    }
   ],
   "source": [
    "df.dtypes"
   ]
  },
  {
   "cell_type": "markdown",
   "id": "38b3ad0b-e6f5-47e7-9e54-cbdfb3d7da67",
   "metadata": {},
   "source": [
    "#### Saving airports-database-clean.csv"
   ]
  },
  {
   "cell_type": "code",
   "execution_count": 25,
   "id": "137f100b-82bd-4646-a3da-5574da827813",
   "metadata": {},
   "outputs": [],
   "source": [
    "# spark.conf.set(\"spark.sql.legacy.timeParserPolicy\", \"LEGACY\")\n",
    "# df.write.mode(\"overwrite\").csv('airports-database-clean.csv', header=True)"
   ]
  },
  {
   "cell_type": "markdown",
   "id": "e61bc3f9-b6cd-4e4d-b92b-90cc07f9c38b",
   "metadata": {
    "jp-MarkdownHeadingCollapsed": true
   },
   "source": [
    "## 1.3 API's"
   ]
  },
  {
   "cell_type": "markdown",
   "id": "0a543a37-fa75-4c8a-8eed-fdf7a9bf5d23",
   "metadata": {
    "jp-MarkdownHeadingCollapsed": true
   },
   "source": [
    "### 1.3.1 AirportDB API"
   ]
  },
  {
   "cell_type": "code",
   "execution_count": 32,
   "id": "cc1f7876-6ae6-4a19-966c-e7cc1a78f32e",
   "metadata": {},
   "outputs": [],
   "source": [
    "import os"
   ]
  },
  {
   "cell_type": "code",
   "execution_count": 33,
   "id": "d885e41f-a8e2-495a-8709-fed4cd757391",
   "metadata": {},
   "outputs": [],
   "source": [
    "os.environ['AIRPORTDB_API_KEY'] = '61b44c03cacbb4d0868bf8bfd16446bebf5250b983cf39256dd7891484a50ebf23b25b44379233c4bf6e7000155491dc'"
   ]
  },
  {
   "cell_type": "code",
   "execution_count": 35,
   "id": "805e6ccc-d6cb-40f0-b2cb-a02bbb7ee545",
   "metadata": {},
   "outputs": [
    {
     "name": "stderr",
     "output_type": "stream",
     "text": [
      "                                                                                \r"
     ]
    }
   ],
   "source": [
    "import requests\n",
    "import os\n",
    "from pyspark.sql import Row\n",
    "\n",
    "# Function to get airport coordinates from AirportDB API\n",
    "def get_airport_coordinates(airport_code):\n",
    "    airportdb_key = os.getenv('AIRPORTDB_API_KEY')\n",
    "    \n",
    "    url = f\"https://airportdb.io/api/v1/airport/K{airport_code}?apiToken={airportdb_key}\"\n",
    "    response = requests.get(url)\n",
    "    \n",
    "    if response.status_code == 200:\n",
    "        data = response.json()\n",
    "        airport_name = data.get('name')\n",
    "        latitude = data.get('latitude_deg')\n",
    "        longitude = data.get('longitude_deg')\n",
    "        return airport_name, latitude, longitude\n",
    "    else:\n",
    "        return None, None, None\n",
    "\n",
    "# Extract distinct airports (both origin and destination)\n",
    "distinct_airports = df.select('origin').distinct().union(df.select('dest').distinct()).rdd.map(lambda row: row[0]).collect()\n",
    "\n",
    "# Get coordinates for each airport\n",
    "airport_data = []\n",
    "for airport in distinct_airports:\n",
    "    airport_name, latitude, longitude = get_airport_coordinates(airport)\n",
    "    if airport_name:  # Only include valid results\n",
    "        airport_data.append(Row(airport_code=airport, airport_name=airport_name, latitude=latitude, longitude=longitude))\n",
    "\n",
    "# Convert to a Spark DataFrame\n",
    "airport_df = spark.createDataFrame(airport_data)"
   ]
  },
  {
   "cell_type": "code",
   "execution_count": 36,
   "id": "cc3a25ec-ae0d-43f3-8400-45db140a0f01",
   "metadata": {},
   "outputs": [
    {
     "name": "stdout",
     "output_type": "stream",
     "text": [
      "+------------+--------------------+------------------+------------------+\n",
      "|airport_code|        airport_name|          latitude|         longitude|\n",
      "+------------+--------------------+------------------+------------------+\n",
      "|         LGA|  La Guardia Airport|         40.777199|        -73.872597|\n",
      "|         EWR|Newark Liberty In...|         40.692501|        -74.168701|\n",
      "|         JFK|John F Kennedy In...|         40.639801|          -73.7789|\n",
      "|         MSY|Louis Armstrong N...| 29.99340057373047|-90.25800323486328|\n",
      "|         SNA|John Wayne Airpor...|         33.675701|       -117.867996|\n",
      "|         BUR|    Bob Hope Airport|         34.197703|       -118.356378|\n",
      "|         GRR|Gerald R. Ford In...|       42.88079834|      -85.52279663|\n",
      "|         MYR|Myrtle Beach Inte...|     33.6796989441|    -78.9282989502|\n",
      "|         GSO|Piedmont Triad In...|36.097801208496094|-79.93730163574219|\n",
      "|         PVD|Theodore Francis ...|         41.732601|        -71.420403|\n",
      "|         OAK|Metropolitan Oakl...|         37.721298|       -122.221001|\n",
      "|         MSN|Dane County Regio...|           43.1399|        -89.337502|\n",
      "|         DCA|Ronald Reagan Was...|           38.8521|        -77.037697|\n",
      "|         LEX|  Blue Grass Airport|  38.0364990234375|-84.60590362548828|\n",
      "|         ORF|Norfolk Internati...| 36.89459991455078|-76.20120239257812|\n",
      "|         CRW|      Yeager Airport| 38.37310028076172|-81.59320068359375|\n",
      "|         SAV|Savannah Hilton H...|       32.12760162|      -81.20210266|\n",
      "|         CMH|John Glenn Columb...|         39.998001|        -82.891899|\n",
      "|         CAK|Akron Canton Regi...|40.916099548339844|-81.44219970703125|\n",
      "|         CHO|Charlottesville A...| 38.13859939575195| -78.4529037475586|\n",
      "+------------+--------------------+------------------+------------------+\n",
      "only showing top 20 rows\n",
      "\n"
     ]
    }
   ],
   "source": [
    "airport_df.show()"
   ]
  },
  {
   "cell_type": "code",
   "execution_count": 37,
   "id": "c69f83a7-5463-416c-82d0-811e57131721",
   "metadata": {},
   "outputs": [
    {
     "data": {
      "text/plain": [
       "101"
      ]
     },
     "execution_count": 37,
     "metadata": {},
     "output_type": "execute_result"
    }
   ],
   "source": [
    "airport_df.count()"
   ]
  },
  {
   "cell_type": "markdown",
   "id": "79828dcf-bba4-49cb-a05f-389ab5c167e2",
   "metadata": {},
   "source": [
    "#### Saving airport_coordinates.csv file"
   ]
  },
  {
   "cell_type": "code",
   "execution_count": 38,
   "id": "8cdbf6b2-7eb9-4ef3-b25a-84a41975ad78",
   "metadata": {},
   "outputs": [],
   "source": [
    "#airport_df.write.mode(\"overwrite\").csv('airport_coordinates.csv', header=True)"
   ]
  },
  {
   "cell_type": "markdown",
   "id": "613b4d9c-02c9-4549-a84c-0e87025ffb7a",
   "metadata": {},
   "source": [
    "#### Importing airport_coordinates.csv file"
   ]
  },
  {
   "cell_type": "code",
   "execution_count": 35,
   "id": "ae145f56-1b5e-41b4-9b3f-3a458ca4db2b",
   "metadata": {},
   "outputs": [],
   "source": [
    "airport_df = spark.read.csv('./data/airport_coordinates.csv', inferSchema=True, header=True)"
   ]
  },
  {
   "cell_type": "code",
   "execution_count": 39,
   "id": "d876d9ea-aad2-419c-96bc-bba3e3087351",
   "metadata": {},
   "outputs": [
    {
     "data": {
      "text/plain": [
       "101"
      ]
     },
     "execution_count": 39,
     "metadata": {},
     "output_type": "execute_result"
    }
   ],
   "source": [
    "airport_df.count()"
   ]
  },
  {
   "cell_type": "code",
   "execution_count": 40,
   "id": "5ecb6e38-4b35-4268-a361-77167b6b021c",
   "metadata": {},
   "outputs": [
    {
     "data": {
      "text/plain": [
       "['airport_code', 'airport_name', 'latitude', 'longitude']"
      ]
     },
     "execution_count": 40,
     "metadata": {},
     "output_type": "execute_result"
    }
   ],
   "source": [
    "airport_df.columns"
   ]
  },
  {
   "cell_type": "code",
   "execution_count": 41,
   "id": "043b40bc-c4a3-4b0d-9c02-e3a6e77c76d7",
   "metadata": {},
   "outputs": [
    {
     "data": {
      "text/plain": [
       "['id',\n",
       " 'dep_date',\n",
       " 'dep_timestamp',\n",
       " 'dep_delay',\n",
       " 'arr_date',\n",
       " 'arr_timestamp',\n",
       " 'arr_delay',\n",
       " 'origin',\n",
       " 'dest',\n",
       " 'carrier',\n",
       " 'name',\n",
       " 'tailnum',\n",
       " 'flight',\n",
       " 'air_time',\n",
       " 'distance']"
      ]
     },
     "execution_count": 41,
     "metadata": {},
     "output_type": "execute_result"
    }
   ],
   "source": [
    "df.columns"
   ]
  },
  {
   "cell_type": "code",
   "execution_count": 42,
   "id": "67fe99f9-9788-4128-b75b-247b2c31bd10",
   "metadata": {},
   "outputs": [],
   "source": [
    "# Join with origin coordinates\n",
    "df_with_origin_coords = df.join(airport_df, df.origin == airport_df.airport_code, 'left') \\\n",
    "    .select('dep_date', 'origin', 'airport_name', 'latitude', 'longitude') \\\n",
    "    .withColumnRenamed('dep_date', 'date') \\\n",
    "    .withColumnRenamed('origin', 'airport_code')\n",
    "\n",
    "# Join with destination coordinates\n",
    "df_with_dest_coords = df.join(airport_df, df.dest == airport_df.airport_code, 'left') \\\n",
    "    .select('arr_date', 'dest', 'airport_name', 'latitude', 'longitude') \\\n",
    "    .withColumnRenamed('arr_date', 'date') \\\n",
    "    .withColumnRenamed('dest', 'airport_code')\n",
    "\n",
    "# Union the two DataFrames (origin and destination)\n",
    "df_combined = df_with_origin_coords.union(df_with_dest_coords)\n",
    "\n",
    "# Select distinct values\n",
    "df_key = df_combined.distinct()"
   ]
  },
  {
   "cell_type": "code",
   "execution_count": 43,
   "id": "956acdda-06bc-4ed0-8e1a-fe12c87517ae",
   "metadata": {},
   "outputs": [
    {
     "name": "stderr",
     "output_type": "stream",
     "text": [
      "[Stage 188:============================>                            (1 + 1) / 2]\r"
     ]
    },
    {
     "name": "stdout",
     "output_type": "stream",
     "text": [
      "+----------+------------+--------------------+---------+----------+\n",
      "|      date|airport_code|        airport_name| latitude| longitude|\n",
      "+----------+------------+--------------------+---------+----------+\n",
      "|2013-11-13|         LGA|  La Guardia Airport|40.777199|-73.872597|\n",
      "|2013-04-05|         LGA|  La Guardia Airport|40.777199|-73.872597|\n",
      "|2013-03-01|         EWR|Newark Liberty In...|40.692501|-74.168701|\n",
      "|2013-10-19|         JFK|John F Kennedy In...|40.639801|  -73.7789|\n",
      "|2013-11-28|         JFK|John F Kennedy In...|40.639801|  -73.7789|\n",
      "|2013-04-17|         JFK|John F Kennedy In...|40.639801|  -73.7789|\n",
      "|2013-05-10|         LGA|  La Guardia Airport|40.777199|-73.872597|\n",
      "|2013-09-09|         EWR|Newark Liberty In...|40.692501|-74.168701|\n",
      "|2013-06-30|         JFK|John F Kennedy In...|40.639801|  -73.7789|\n",
      "|2013-01-06|         LGA|  La Guardia Airport|40.777199|-73.872597|\n",
      "|2013-12-23|         EWR|Newark Liberty In...|40.692501|-74.168701|\n",
      "|2013-12-29|         JFK|John F Kennedy In...|40.639801|  -73.7789|\n",
      "|2013-08-30|         LGA|  La Guardia Airport|40.777199|-73.872597|\n",
      "|2013-06-18|         EWR|Newark Liberty In...|40.692501|-74.168701|\n",
      "|2013-08-22|         EWR|Newark Liberty In...|40.692501|-74.168701|\n",
      "|2013-05-04|         JFK|John F Kennedy In...|40.639801|  -73.7789|\n",
      "|2013-06-27|         JFK|John F Kennedy In...|40.639801|  -73.7789|\n",
      "|2013-11-16|         LGA|  La Guardia Airport|40.777199|-73.872597|\n",
      "|2013-12-31|         LGA|  La Guardia Airport|40.777199|-73.872597|\n",
      "|2013-03-04|         LGA|  La Guardia Airport|40.777199|-73.872597|\n",
      "+----------+------------+--------------------+---------+----------+\n",
      "only showing top 20 rows\n",
      "\n"
     ]
    },
    {
     "name": "stderr",
     "output_type": "stream",
     "text": [
      "                                                                                \r"
     ]
    }
   ],
   "source": [
    "df_key.show()"
   ]
  },
  {
   "cell_type": "code",
   "execution_count": 44,
   "id": "12533c25-4c42-466f-8143-13e985a153bf",
   "metadata": {},
   "outputs": [
    {
     "name": "stderr",
     "output_type": "stream",
     "text": [
      "                                                                                \r"
     ]
    },
    {
     "data": {
      "text/plain": [
       "31864"
      ]
     },
     "execution_count": 44,
     "metadata": {},
     "output_type": "execute_result"
    }
   ],
   "source": [
    "df_key.count()"
   ]
  },
  {
   "cell_type": "markdown",
   "id": "619b8339-ff64-4133-996f-e03a8a0e5966",
   "metadata": {
    "jp-MarkdownHeadingCollapsed": true
   },
   "source": [
    "### 1.3.2 Weatherbit API"
   ]
  },
  {
   "cell_type": "code",
   "execution_count": 45,
   "id": "a2830293-b094-40c7-9ed5-08cccde90f9d",
   "metadata": {},
   "outputs": [],
   "source": [
    "import os"
   ]
  },
  {
   "cell_type": "code",
   "execution_count": 46,
   "id": "0e8c596e-6ebd-4277-9e37-e883dd2f18a9",
   "metadata": {},
   "outputs": [],
   "source": [
    "os.environ['WEATHERBIT_API_KEY'] = 'e0c14a97b2f24554b5352d134aa059a5'"
   ]
  },
  {
   "cell_type": "markdown",
   "id": "bf56334a-b6ac-482e-9527-c4779644257a",
   "metadata": {},
   "source": [
    "#### Import wind_speed.csv and continuing"
   ]
  },
  {
   "cell_type": "code",
   "execution_count": 47,
   "id": "924aa112-15b4-4646-9266-6877d45e34c5",
   "metadata": {},
   "outputs": [],
   "source": [
    "wind_speed_df = spark.read.csv('./data/wind_speed.csv', inferSchema=True, header=True)"
   ]
  },
  {
   "cell_type": "code",
   "execution_count": 48,
   "id": "f26fcfa8-270a-46f7-8558-c0e43f66c704",
   "metadata": {},
   "outputs": [
    {
     "data": {
      "text/plain": [
       "4499"
      ]
     },
     "execution_count": 48,
     "metadata": {},
     "output_type": "execute_result"
    }
   ],
   "source": [
    "wind_speed_df.count()"
   ]
  },
  {
   "cell_type": "code",
   "execution_count": 49,
   "id": "e931c838-2085-421c-8c2b-4c422ecfab52",
   "metadata": {},
   "outputs": [
    {
     "name": "stdout",
     "output_type": "stream",
     "text": [
      "root\n",
      " |-- date: date (nullable = true)\n",
      " |-- airport_code: string (nullable = true)\n",
      " |-- airport_name: string (nullable = true)\n",
      " |-- latitude: double (nullable = true)\n",
      " |-- longitude: double (nullable = true)\n",
      " |-- wind_speed: double (nullable = true)\n",
      "\n"
     ]
    }
   ],
   "source": [
    "wind_speed_df.printSchema()"
   ]
  },
  {
   "cell_type": "code",
   "execution_count": 54,
   "id": "56374a80-b7da-4128-801d-5d7155939d26",
   "metadata": {},
   "outputs": [],
   "source": [
    "from pyspark.sql.functions import monotonically_increasing_id, col\n",
    "from pyspark.sql.types import IntegerType\n",
    "\n",
    "# Add a row number column using monotonically_increasing_id and cast it to IntegerType\n",
    "df_with_row_numbers = df_key.withColumn(\"row_num\", monotonically_increasing_id().cast(IntegerType()))\n",
    "\n",
    "# Get the total count of the DataFrame\n",
    "row_count = wind_speed_df.count()\n",
    "\n",
    "# Select rows starting from index 1493\n",
    "df_key_filtered = df_with_row_numbers.filter(col('row_num') >= wind_speed_df.count()).drop('row_num')"
   ]
  },
  {
   "cell_type": "code",
   "execution_count": 55,
   "id": "6fbc166a-0bec-4275-bd42-87e68c801fb0",
   "metadata": {},
   "outputs": [
    {
     "name": "stderr",
     "output_type": "stream",
     "text": [
      "[Stage 243:>                                                        (0 + 2) / 2]\r"
     ]
    },
    {
     "name": "stdout",
     "output_type": "stream",
     "text": [
      "+----------+------------+--------------------+------------------+------------------+\n",
      "|      date|airport_code|        airport_name|          latitude|         longitude|\n",
      "+----------+------------+--------------------+------------------+------------------+\n",
      "|2013-10-11|         SFO|San Francisco Int...| 37.61899948120117|          -122.375|\n",
      "|2013-10-19|         SFO|San Francisco Int...| 37.61899948120117|          -122.375|\n",
      "|2013-12-01|         SFO|San Francisco Int...| 37.61899948120117|          -122.375|\n",
      "|2013-03-10|         SFO|San Francisco Int...| 37.61899948120117|          -122.375|\n",
      "|2013-03-31|         SFO|San Francisco Int...| 37.61899948120117|          -122.375|\n",
      "|2013-11-08|         MEM|Memphis Internati...| 35.04240036010742|-89.97669982910156|\n",
      "|2013-01-06|         BHM|Birmingham-Shuttl...|       33.56290054|      -86.75350189|\n",
      "|2013-02-02|         RIC|Richmond Internat...| 37.50519943237305| -77.3197021484375|\n",
      "|2013-04-11|         RIC|Richmond Internat...| 37.50519943237305| -77.3197021484375|\n",
      "|2013-11-28|         DAY|James M Cox Dayto...|39.902400970458984|-84.21939849853516|\n",
      "|2013-12-04|         ORD|Chicago O'Hare In...|           41.9786|          -87.9048|\n",
      "|2013-02-27|         ORD|Chicago O'Hare In...|           41.9786|          -87.9048|\n",
      "|2013-01-26|         BTV|Burlington Intern...|44.471900939899996|-73.15329742429999|\n",
      "|2013-01-19|         RDU|Raleigh Durham In...|35.877601623535156| -78.7874984741211|\n",
      "|2013-10-24|         RDU|Raleigh Durham In...|35.877601623535156| -78.7874984741211|\n",
      "|2013-01-03|         MKE|General Mitchell ...|42.947200775146484|-87.89659881591797|\n",
      "|2013-10-05|         MKE|General Mitchell ...|42.947200775146484|-87.89659881591797|\n",
      "|2013-03-04|         MKE|General Mitchell ...|42.947200775146484|-87.89659881591797|\n",
      "|2013-01-11|         SYR|Syracuse Hancock ...| 43.11119842529297| -76.1063003540039|\n",
      "|2013-01-18|         SYR|Syracuse Hancock ...| 43.11119842529297| -76.1063003540039|\n",
      "+----------+------------+--------------------+------------------+------------------+\n",
      "only showing top 20 rows\n",
      "\n"
     ]
    },
    {
     "name": "stderr",
     "output_type": "stream",
     "text": [
      "                                                                                \r"
     ]
    }
   ],
   "source": [
    "df_key_filtered.show()"
   ]
  },
  {
   "cell_type": "code",
   "execution_count": 56,
   "id": "e2a8999b-c9fd-49d2-9b09-295c9ce9453d",
   "metadata": {},
   "outputs": [
    {
     "name": "stderr",
     "output_type": "stream",
     "text": [
      "                                                                                \r"
     ]
    },
    {
     "data": {
      "text/plain": [
       "27365"
      ]
     },
     "execution_count": 56,
     "metadata": {},
     "output_type": "execute_result"
    }
   ],
   "source": [
    "df_key_filtered.count()"
   ]
  },
  {
   "cell_type": "code",
   "execution_count": null,
   "id": "1e1edf1c-208a-466b-a5fd-0efb6a0878d6",
   "metadata": {},
   "outputs": [],
   "source": [
    "import requests\n",
    "import os\n",
    "from datetime import datetime, timedelta\n",
    "from time import sleep\n",
    "from pyspark.sql import Row\n",
    "from pyspark.sql.types import StructType, StructField, StringType, DoubleType, DateType\n",
    "\n",
    "# Function to get wind speed for a specific date and location\n",
    "def get_wind_speed(latitude, longitude, flight_date, max_retries=3, backoff_time=5):\n",
    "    weatherbit_key = os.getenv('WEATHERBIT_API_KEY')\n",
    "    \n",
    "    # Convert flight_date to datetime and get the next day for end_date\n",
    "    start_date = date\n",
    "    end_date = start_date + timedelta(days=1)\n",
    "    \n",
    "    url = 'https://api.weatherbit.io/v2.0/history/daily'\n",
    "    params = {\n",
    "        'lat': latitude,\n",
    "        'lon': longitude,\n",
    "        'start_date': start_date,\n",
    "        'end_date': end_date,\n",
    "        'key': weatherbit_key\n",
    "    }\n",
    "    headers = {'Accept': 'application/json'}\n",
    "\n",
    "    for attempt in range(max_retries):\n",
    "        try:\n",
    "            response = requests.get(url, params=params, headers=headers, timeout=10)  # Set a 10-second timeout\n",
    "            response.raise_for_status()  # Raise an error if the request failed\n",
    "            data = response.json()\n",
    "            \n",
    "            if 'data' in data and len(data['data']) > 0:\n",
    "                wind_speed = data['data'][0]['wind_spd']\n",
    "                return wind_speed\n",
    "            else:\n",
    "                return None  # Handle cases where no data is returned\n",
    "            \n",
    "        except requests.exceptions.Timeout:\n",
    "            print(f\"Timeout occurred. Retrying... ({attempt + 1}/{max_retries})\")\n",
    "            sleep(backoff_time)  # Wait for a few seconds before retrying\n",
    "        \n",
    "        except requests.exceptions.RequestException as e:\n",
    "            print(f\"An error occurred: {e}\")\n",
    "            if response.status_code == 429:\n",
    "                print(f\"Rate limit exceeded. Sleeping for {backoff_time} seconds.\")\n",
    "                sleep(backoff_time)\n",
    "                break\n",
    "    \n",
    "    print(f\"Failed to retrieve wind speed after {max_retries} attempts.\")\n",
    "    return None\n",
    "\n",
    "# Collect distinct values from df_final\n",
    "distinct_airport_data = df_key_filtered.collect()\n",
    "\n",
    "# Query Weatherbit API for each distinct airport and flight date\n",
    "count = 0\n",
    "wind_speed_data = []\n",
    "\n",
    "for row in distinct_airport_data:\n",
    "    \n",
    "    date = row['date']\n",
    "    airport_code = row['airport_code']\n",
    "    airport_name = row['airport_name']\n",
    "    latitude = row['latitude']\n",
    "    longitude = row['longitude']\n",
    "    \n",
    "    wind_speed = get_wind_speed(latitude, longitude, date)\n",
    "    \n",
    "    # Append the result only if valid wind speed is obtained\n",
    "    if wind_speed is not None:\n",
    "        wind_speed_data.append(Row(date=date, airport_code=airport_code, airport_name=airport_name, latitude=latitude, longitude=longitude, wind_speed=float(wind_speed)))"
   ]
  },
  {
   "cell_type": "code",
   "execution_count": 59,
   "id": "69a63955-bd55-4cd2-9327-68c99ba15e8c",
   "metadata": {},
   "outputs": [],
   "source": [
    "# Define a schema with consistent types\n",
    "schema = StructType([\n",
    "    StructField(\"date\", DateType(), True),\n",
    "    StructField(\"airport_code\", StringType(), True),\n",
    "    StructField(\"airport_name\", StringType(), True),\n",
    "    StructField(\"latitude\", DoubleType(), True),\n",
    "    StructField(\"longitude\", DoubleType(), True),\n",
    "    StructField(\"wind_speed\", DoubleType(), True)\n",
    "])\n",
    "\n",
    "# Ensure no empty values are passed to Spark\n",
    "if wind_speed_data:\n",
    "    # Convert to a Spark DataFrame\n",
    "    wind_speed_df_tmp = spark.createDataFrame(wind_speed_data, schema=schema)\n",
    "    # Append on existing DataFrame and create a new one (avoid overwriting)\n",
    "    wind_speed_df_new = wind_speed_df.union(wind_speed_df_tmp)\n",
    "else:\n",
    "    print(\"No valid wind speed data was retrieved.\")"
   ]
  },
  {
   "cell_type": "code",
   "execution_count": 60,
   "id": "fe407805-9069-4421-a3cb-4d18224ce420",
   "metadata": {},
   "outputs": [
    {
     "name": "stderr",
     "output_type": "stream",
     "text": [
      "                                                                                \r"
     ]
    },
    {
     "data": {
      "text/plain": [
       "5165"
      ]
     },
     "execution_count": 60,
     "metadata": {},
     "output_type": "execute_result"
    }
   ],
   "source": [
    "wind_speed_df_new.dropDuplicates().count()"
   ]
  },
  {
   "cell_type": "code",
   "execution_count": 61,
   "id": "9ed34cc3-581d-472b-b368-08b3d07034bf",
   "metadata": {},
   "outputs": [],
   "source": [
    "wind_speed_df = wind_speed_df_new.dropDuplicates()"
   ]
  },
  {
   "cell_type": "markdown",
   "id": "b670f22b-3750-4035-a32c-0be2ed20e25c",
   "metadata": {},
   "source": [
    "#### Saving wind_speed.csv"
   ]
  },
  {
   "cell_type": "code",
   "execution_count": 62,
   "id": "eb593a57-c330-45a3-a8ed-20c60c84d044",
   "metadata": {},
   "outputs": [
    {
     "name": "stderr",
     "output_type": "stream",
     "text": [
      "                                                                                \r"
     ]
    }
   ],
   "source": [
    "# spark.conf.set(\"spark.sql.legacy.timeParserPolicy\", \"LEGACY\")\n",
    "# wind_speed_df.write.mode(\"overwrite\").csv('./data/wind_speed.csv', header=True)"
   ]
  },
  {
   "cell_type": "markdown",
   "id": "daece4f0-d8fe-40be-86e3-fd49d1d741fc",
   "metadata": {
    "jp-MarkdownHeadingCollapsed": true
   },
   "source": [
    "## 1.4 Joining Data"
   ]
  },
  {
   "cell_type": "code",
   "execution_count": 63,
   "id": "fc3e98ca-914c-4365-bd64-2114e94d282b",
   "metadata": {},
   "outputs": [],
   "source": [
    "wind_speed_df = spark.read.csv('./data/wind_speed.csv', inferSchema=True, header=True)"
   ]
  },
  {
   "cell_type": "code",
   "execution_count": 64,
   "id": "1418885a-23f4-466b-ae9c-e2f363186a76",
   "metadata": {},
   "outputs": [
    {
     "name": "stdout",
     "output_type": "stream",
     "text": [
      "root\n",
      " |-- date: string (nullable = true)\n",
      " |-- airport_code: string (nullable = true)\n",
      " |-- airport_name: string (nullable = true)\n",
      " |-- latitude: double (nullable = true)\n",
      " |-- longitude: double (nullable = true)\n",
      " |-- wind_speed: double (nullable = true)\n",
      "\n"
     ]
    }
   ],
   "source": [
    "wind_speed_df.printSchema()"
   ]
  },
  {
   "cell_type": "code",
   "execution_count": 65,
   "id": "45e33e89-dbf8-437a-93c6-26908fc6f0d8",
   "metadata": {},
   "outputs": [
    {
     "data": {
      "text/plain": [
       "5165"
      ]
     },
     "execution_count": 65,
     "metadata": {},
     "output_type": "execute_result"
    }
   ],
   "source": [
    "wind_speed_df.count()"
   ]
  },
  {
   "cell_type": "code",
   "execution_count": 66,
   "id": "4e731ba2-3af8-4466-938e-e586f654d8b4",
   "metadata": {},
   "outputs": [
    {
     "name": "stderr",
     "output_type": "stream",
     "text": [
      "                                                                                \r"
     ]
    }
   ],
   "source": [
    "df = spark.read.csv('./data/airports-database-clean.csv', inferSchema=True, header=True)"
   ]
  },
  {
   "cell_type": "code",
   "execution_count": 67,
   "id": "0e51d44c-8a49-43be-8c0d-4d98917a6919",
   "metadata": {},
   "outputs": [
    {
     "name": "stdout",
     "output_type": "stream",
     "text": [
      "root\n",
      " |-- id: integer (nullable = true)\n",
      " |-- dep_date: string (nullable = true)\n",
      " |-- dep_timestamp: timestamp (nullable = true)\n",
      " |-- dep_delay: double (nullable = true)\n",
      " |-- arr_date: string (nullable = true)\n",
      " |-- arr_timestamp: timestamp (nullable = true)\n",
      " |-- arr_delay: double (nullable = true)\n",
      " |-- origin: string (nullable = true)\n",
      " |-- dest: string (nullable = true)\n",
      " |-- carrier: string (nullable = true)\n",
      " |-- name: string (nullable = true)\n",
      " |-- tailnum: string (nullable = true)\n",
      " |-- flight: integer (nullable = true)\n",
      " |-- air_time: double (nullable = true)\n",
      " |-- distance: integer (nullable = true)\n",
      "\n"
     ]
    }
   ],
   "source": [
    "df.printSchema()"
   ]
  },
  {
   "cell_type": "code",
   "execution_count": 68,
   "id": "3ddc748d-cfd5-434a-ba6b-fb4ae7da01c0",
   "metadata": {},
   "outputs": [
    {
     "data": {
      "text/plain": [
       "327346"
      ]
     },
     "execution_count": 68,
     "metadata": {},
     "output_type": "execute_result"
    }
   ],
   "source": [
    "df.count()"
   ]
  },
  {
   "cell_type": "code",
   "execution_count": 69,
   "id": "c3b80837-540d-4f37-86dd-cad1670d9d7e",
   "metadata": {},
   "outputs": [],
   "source": [
    "# Alias the wind_speed_df for the origin and destination joins\n",
    "wind_speed_origin = wind_speed_df.alias(\"wind_origin\")\n",
    "wind_speed_dest = wind_speed_df.alias(\"wind_dest\")\n",
    "\n",
    "# Join on 'origin' airport and get wind speed for the departure airport\n",
    "df_with_origin_wind = df.join(wind_speed_origin, \n",
    "                              (df[\"dep_date\"] == wind_speed_origin[\"date\"]) & \n",
    "                              (df[\"origin\"] == wind_speed_origin[\"airport_code\"]),\n",
    "                              how=\"left\") \\\n",
    "                        .withColumnRenamed(\"wind_speed\", \"origin_wind_speed\") \\\n",
    "                        .withColumnRenamed(\"airport_name\", \"origin_airport_name\")\n",
    "\n",
    "# Join on 'dest' airport and get wind speed for the arrival airport\n",
    "df_with_wind_speed = df_with_origin_wind.join(wind_speed_dest, \n",
    "                                              (df_with_origin_wind[\"arr_date\"] == wind_speed_dest[\"date\"]) & \n",
    "                                              (df_with_origin_wind[\"dest\"] == wind_speed_dest[\"airport_code\"]),\n",
    "                                              how=\"left\") \\\n",
    "                                        .withColumnRenamed(\"wind_speed\", \"dest_wind_speed\") \\\n",
    "                                        .withColumnRenamed(\"airport_name\", \"dest_airport_name\")"
   ]
  },
  {
   "cell_type": "code",
   "execution_count": 70,
   "id": "735b3d4b-c953-4dfc-a131-399a3a5c217d",
   "metadata": {
    "scrolled": true
   },
   "outputs": [
    {
     "data": {
      "text/plain": [
       "['id',\n",
       " 'dep_date',\n",
       " 'dep_timestamp',\n",
       " 'dep_delay',\n",
       " 'arr_date',\n",
       " 'arr_timestamp',\n",
       " 'arr_delay',\n",
       " 'origin',\n",
       " 'dest',\n",
       " 'carrier',\n",
       " 'name',\n",
       " 'tailnum',\n",
       " 'flight',\n",
       " 'air_time',\n",
       " 'distance',\n",
       " 'date',\n",
       " 'airport_code',\n",
       " 'origin_airport_name',\n",
       " 'latitude',\n",
       " 'longitude',\n",
       " 'origin_wind_speed',\n",
       " 'date',\n",
       " 'airport_code',\n",
       " 'dest_airport_name',\n",
       " 'latitude',\n",
       " 'longitude',\n",
       " 'dest_wind_speed']"
      ]
     },
     "execution_count": 70,
     "metadata": {},
     "output_type": "execute_result"
    }
   ],
   "source": [
    "df_with_wind_speed.columns"
   ]
  },
  {
   "cell_type": "code",
   "execution_count": 71,
   "id": "a2cad233-a1e8-47eb-884b-dd2257035ebe",
   "metadata": {},
   "outputs": [],
   "source": [
    "df_final = df_with_wind_speed.select('id',\n",
    "                                    'origin',\n",
    "                                    'origin_airport_name',\n",
    "                                    'dep_timestamp',\n",
    "                                    'dep_delay',\n",
    "                                    'origin_wind_speed',\n",
    "                                    'dest',\n",
    "                                    'dest_airport_name',\n",
    "                                    'arr_timestamp',\n",
    "                                    'arr_delay',\n",
    "                                    'dest_wind_speed',\n",
    "                                    'carrier',\n",
    "                                    'name',\n",
    "                                    'tailnum',\n",
    "                                    'flight',\n",
    "                                    'air_time',\n",
    "                                    'distance').filter((df_with_wind_speed.origin_wind_speed.isNotNull()) \\\n",
    "                                                       & (df_with_wind_speed.dest_wind_speed.isNotNull()))"
   ]
  },
  {
   "cell_type": "code",
   "execution_count": 72,
   "id": "297e18f2-934d-49da-8879-49e4c0f6726f",
   "metadata": {},
   "outputs": [
    {
     "name": "stderr",
     "output_type": "stream",
     "text": [
      "                                                                                \r"
     ]
    },
    {
     "data": {
      "text/plain": [
       "32133"
      ]
     },
     "execution_count": 72,
     "metadata": {},
     "output_type": "execute_result"
    }
   ],
   "source": [
    "df_final.count()"
   ]
  },
  {
   "cell_type": "code",
   "execution_count": 73,
   "id": "29fa25f1-2063-41c7-a42e-46b988f65b2b",
   "metadata": {},
   "outputs": [
    {
     "name": "stderr",
     "output_type": "stream",
     "text": [
      "[Stage 377:============================>                            (1 + 1) / 2]\r"
     ]
    },
    {
     "name": "stdout",
     "output_type": "stream",
     "text": [
      "+-------------+\n",
      "|arr_timestamp|\n",
      "+-------------+\n",
      "|         5415|\n",
      "+-------------+\n",
      "\n"
     ]
    },
    {
     "name": "stderr",
     "output_type": "stream",
     "text": [
      "                                                                                \r"
     ]
    }
   ],
   "source": [
    "print_missing_data(df_final)"
   ]
  },
  {
   "cell_type": "markdown",
   "id": "4c277a9e-fb17-41be-ade6-70e6ec9a1cdd",
   "metadata": {
    "jp-MarkdownHeadingCollapsed": true
   },
   "source": [
    "## 1.5 Load"
   ]
  },
  {
   "cell_type": "code",
   "execution_count": 77,
   "id": "1b839a0d-a14e-4ee3-b2aa-45e9c6d1d212",
   "metadata": {},
   "outputs": [],
   "source": [
    "df_exp = df_final.na.drop()"
   ]
  },
  {
   "cell_type": "code",
   "execution_count": 78,
   "id": "52827959-ede2-4086-aa1d-8bc5df175673",
   "metadata": {},
   "outputs": [
    {
     "name": "stderr",
     "output_type": "stream",
     "text": [
      "                                                                                \r"
     ]
    },
    {
     "data": {
      "text/plain": [
       "26718"
      ]
     },
     "execution_count": 78,
     "metadata": {},
     "output_type": "execute_result"
    }
   ],
   "source": [
    "df_exp.count()"
   ]
  },
  {
   "cell_type": "code",
   "execution_count": 79,
   "id": "33c9de79-d9b4-4e12-8dde-b5cf688627bb",
   "metadata": {},
   "outputs": [
    {
     "name": "stdout",
     "output_type": "stream",
     "text": [
      "root\n",
      " |-- id: integer (nullable = true)\n",
      " |-- origin: string (nullable = true)\n",
      " |-- origin_airport_name: string (nullable = true)\n",
      " |-- dep_timestamp: timestamp (nullable = true)\n",
      " |-- dep_delay: double (nullable = true)\n",
      " |-- origin_wind_speed: double (nullable = true)\n",
      " |-- dest: string (nullable = true)\n",
      " |-- dest_airport_name: string (nullable = true)\n",
      " |-- arr_timestamp: timestamp (nullable = true)\n",
      " |-- arr_delay: double (nullable = true)\n",
      " |-- dest_wind_speed: double (nullable = true)\n",
      " |-- carrier: string (nullable = true)\n",
      " |-- name: string (nullable = true)\n",
      " |-- tailnum: string (nullable = true)\n",
      " |-- flight: integer (nullable = true)\n",
      " |-- air_time: double (nullable = true)\n",
      " |-- distance: integer (nullable = true)\n",
      "\n"
     ]
    }
   ],
   "source": [
    "df_exp.printSchema()"
   ]
  },
  {
   "cell_type": "code",
   "execution_count": 81,
   "id": "53ea6fa5-5295-4e65-b823-9db13865b5b4",
   "metadata": {},
   "outputs": [],
   "source": [
    "# df_exp.write.mode('overwrite').csv('./data/df_final.csv', header=True)"
   ]
  },
  {
   "cell_type": "markdown",
   "id": "3988a2fe-7afe-46cd-abc9-c6adb8cbdc24",
   "metadata": {
    "jp-MarkdownHeadingCollapsed": true
   },
   "source": [
    "# 2. <span style=\"color: darkblue;\">Questions Raised</span>"
   ]
  },
  {
   "cell_type": "markdown",
   "id": "b4aea9b2-6e22-446a-9ecd-50ce89444985",
   "metadata": {
    "jp-MarkdownHeadingCollapsed": true
   },
   "source": [
    "### Loading Final Cleaned Data"
   ]
  },
  {
   "cell_type": "code",
   "execution_count": 82,
   "id": "4a32a705-407b-4a2d-8a6b-357d8ddd4773",
   "metadata": {},
   "outputs": [
    {
     "name": "stderr",
     "output_type": "stream",
     "text": [
      "                                                                                \r"
     ]
    }
   ],
   "source": [
    "df = spark.read.csv('./data/df_final.csv', header=True, inferSchema=True)"
   ]
  },
  {
   "cell_type": "code",
   "execution_count": 83,
   "id": "e27c7efc-6c97-44ce-8bcf-aa3f08444f81",
   "metadata": {},
   "outputs": [
    {
     "data": {
      "text/plain": [
       "26718"
      ]
     },
     "execution_count": 83,
     "metadata": {},
     "output_type": "execute_result"
    }
   ],
   "source": [
    "df.count()"
   ]
  },
  {
   "cell_type": "markdown",
   "id": "e414ebd1-7a70-4926-be5e-3edc533e40ac",
   "metadata": {
    "jp-MarkdownHeadingCollapsed": true
   },
   "source": [
    "### <span style=\"color: darkgreen;\">**Pergunta 1:**</span> Qual é o número total de voos no conjunto de dados?"
   ]
  },
  {
   "cell_type": "code",
   "execution_count": 84,
   "id": "bddebfe3-4625-4fcf-906a-ea60c7380498",
   "metadata": {},
   "outputs": [
    {
     "data": {
      "text/plain": [
       "336776"
      ]
     },
     "execution_count": 84,
     "metadata": {},
     "output_type": "execute_result"
    }
   ],
   "source": [
    "# From original data airports-database.csv\n",
    "df_airports_db.count()"
   ]
  },
  {
   "cell_type": "markdown",
   "id": "4da016e0-52ed-410b-8780-7d0d00b3f65b",
   "metadata": {
    "jp-MarkdownHeadingCollapsed": true
   },
   "source": [
    "### <span style=\"color: darkgreen;\">**Pergunta 2:**</span> Quantos voos foram cancelados? (Considerando que voos cancelados têm dep_time e arr_time nulos)"
   ]
  },
  {
   "cell_type": "code",
   "execution_count": 85,
   "id": "a382859c-211f-44e7-a16b-72c23bc09bfd",
   "metadata": {},
   "outputs": [
    {
     "name": "stderr",
     "output_type": "stream",
     "text": [
      "                                                                                \r"
     ]
    },
    {
     "data": {
      "text/plain": [
       "8255"
      ]
     },
     "execution_count": 85,
     "metadata": {},
     "output_type": "execute_result"
    }
   ],
   "source": [
    "df_cancel.count()"
   ]
  },
  {
   "cell_type": "markdown",
   "id": "dc774293-22bd-41de-b40f-aafec84c70ae",
   "metadata": {
    "jp-MarkdownHeadingCollapsed": true
   },
   "source": [
    "### <span style=\"color: darkgreen;\">**Pergunta 3:**</span> Qual é o atraso médio na partida dos voos (dep_delay)?"
   ]
  },
  {
   "cell_type": "code",
   "execution_count": 86,
   "id": "7f1d7731-2bde-4468-9924-076e4e1ef803",
   "metadata": {},
   "outputs": [
    {
     "name": "stdout",
     "output_type": "stream",
     "text": [
      "Atraso médio origem: 11.16 minutos.\n"
     ]
    }
   ],
   "source": [
    "from pyspark.sql import functions as F\n",
    "\n",
    "# Calculate the average of 'dep_delay' across the entire DataFrame and collect the result\n",
    "result = df.agg(F.avg('dep_delay')).collect()\n",
    "\n",
    "# Format the collected average delay to 2 decimal places\n",
    "dep_delay_avg = \"{:.2f}\".format(result[0][0])\n",
    "\n",
    "print(\"Atraso médio origem: \" + dep_delay_avg + \" minutos.\")"
   ]
  },
  {
   "cell_type": "markdown",
   "id": "e7e6a07c-2358-4352-b3bc-adaa7c7b8b83",
   "metadata": {
    "jp-MarkdownHeadingCollapsed": true
   },
   "source": [
    "### <span style=\"color: darkgreen;\">**Pergunta 4:**</span> Quais são os 5 aeroportos com maior número de pousos?"
   ]
  },
  {
   "cell_type": "code",
   "execution_count": 87,
   "id": "0f97421e-2af4-443f-89ce-c585dd392e78",
   "metadata": {},
   "outputs": [],
   "source": [
    "#result = df.groupBy('dest','dest_airport_name').count()"
   ]
  },
  {
   "cell_type": "code",
   "execution_count": 88,
   "id": "dc40ba8c-6d07-45bc-99c9-34e0516e124e",
   "metadata": {},
   "outputs": [
    {
     "name": "stderr",
     "output_type": "stream",
     "text": [
      "[Stage 404:============================>                            (1 + 1) / 2]\r"
     ]
    },
    {
     "name": "stdout",
     "output_type": "stream",
     "text": [
      "+----+------------------------------------------------+-----+\n",
      "|dest|dest_airport_name                               |count|\n",
      "+----+------------------------------------------------+-----+\n",
      "|LAX |Los Angeles International Airport               |1498 |\n",
      "|ATL |Hartsfield Jackson Atlanta International Airport|1478 |\n",
      "|CLT |Charlotte Douglas International Airport         |1347 |\n",
      "|ORD |Chicago O'Hare International Airport            |1293 |\n",
      "|MCO |Orlando International Airport                   |1286 |\n",
      "+----+------------------------------------------------+-----+\n",
      "only showing top 5 rows\n",
      "\n"
     ]
    },
    {
     "name": "stderr",
     "output_type": "stream",
     "text": [
      "                                                                                \r"
     ]
    }
   ],
   "source": [
    "df.groupBy('dest','dest_airport_name').count().orderBy('count', ascending=False).show(5, truncate=False)"
   ]
  },
  {
   "cell_type": "markdown",
   "id": "da4d947c-019a-46be-9180-25286c766fb1",
   "metadata": {
    "jp-MarkdownHeadingCollapsed": true
   },
   "source": [
    "### <span style=\"color: darkgreen;\">**Pergunta 5:**</span> Qual é a rota mais frequente (par origin-dest)"
   ]
  },
  {
   "cell_type": "code",
   "execution_count": 89,
   "id": "87127855-39db-4ac5-8d6a-06da470fbbe4",
   "metadata": {},
   "outputs": [],
   "source": [
    "result = df.groupBy('origin','origin_airport_name', 'dest','dest_airport_name').count()"
   ]
  },
  {
   "cell_type": "code",
   "execution_count": 90,
   "id": "1f816512-af01-464d-8f3d-26688930b0f7",
   "metadata": {},
   "outputs": [
    {
     "name": "stdout",
     "output_type": "stream",
     "text": [
      "+------+------------------------------------+----+---------------------------------+-----+\n",
      "|origin|origin_airport_name                 |dest|dest_airport_name                |count|\n",
      "+------+------------------------------------+----+---------------------------------+-----+\n",
      "|JFK   |John F Kennedy International Airport|LAX |Los Angeles International Airport|1044 |\n",
      "+------+------------------------------------+----+---------------------------------+-----+\n",
      "only showing top 1 row\n",
      "\n"
     ]
    }
   ],
   "source": [
    "result.orderBy('count', ascending=False).show(1, truncate=False)"
   ]
  },
  {
   "cell_type": "markdown",
   "id": "ce36be7c-7281-4b8b-aa5c-b4d29aade9c5",
   "metadata": {
    "jp-MarkdownHeadingCollapsed": true
   },
   "source": [
    "### <span style=\"color: darkgreen;\">**Pergunta 6:**</span>  Quais são as 5 companhias aéreas com maior tempo médio de atraso na chegada? (Exiba também o tempo)"
   ]
  },
  {
   "cell_type": "code",
   "execution_count": 91,
   "id": "d68404c1-8046-45c5-bb14-7472dd4ece52",
   "metadata": {},
   "outputs": [
    {
     "name": "stdout",
     "output_type": "stream",
     "text": [
      "+-------+---------------------------+-------------+\n",
      "|carrier|name                       |avg_arr_delay|\n",
      "+-------+---------------------------+-------------+\n",
      "|F9     |Frontier Airlines Inc.     |22.35        |\n",
      "|FL     |AirTran Airways Corporation|20.33        |\n",
      "|YV     |Mesa Airlines Inc.         |17.91        |\n",
      "|EV     |ExpressJet Airlines Inc.   |16.42        |\n",
      "|B6     |JetBlue Airways            |8.39         |\n",
      "+-------+---------------------------+-------------+\n",
      "only showing top 5 rows\n",
      "\n"
     ]
    }
   ],
   "source": [
    "df.select('carrier', 'name', 'arr_delay') \\\n",
    "    .groupBy('carrier', 'name') \\\n",
    "    .agg(F.round(F.avg('arr_delay'), 2).alias('avg_arr_delay')) \\\n",
    "    .orderBy('avg_arr_delay', ascending=False) \\\n",
    "    .show(5, truncate=False)"
   ]
  },
  {
   "cell_type": "markdown",
   "id": "b6e04018-e618-449b-a2e6-fd3e33f6e04e",
   "metadata": {
    "jp-MarkdownHeadingCollapsed": true
   },
   "source": [
    "### <span style=\"color: darkgreen;\">**Pergunta 7:**</span> Qual é o dia da semana com maior número de voos?"
   ]
  },
  {
   "cell_type": "code",
   "execution_count": 92,
   "id": "81444043-6a6c-4e0e-ab48-2cf105020254",
   "metadata": {},
   "outputs": [
    {
     "name": "stdout",
     "output_type": "stream",
     "text": [
      "+-------------------+-----------+\n",
      "|      dep_timestamp|day_of_week|\n",
      "+-------------------+-----------+\n",
      "|2013-01-01 05:17:00|    Tuesday|\n",
      "|2013-01-01 05:42:00|    Tuesday|\n",
      "|2013-01-01 05:58:00|    Tuesday|\n",
      "|2013-01-01 06:06:00|    Tuesday|\n",
      "|2013-01-01 06:07:00|    Tuesday|\n",
      "+-------------------+-----------+\n",
      "only showing top 5 rows\n",
      "\n"
     ]
    }
   ],
   "source": [
    "from pyspark.sql.functions import date_format\n",
    "\n",
    "# Extract the day of the week from 'dep_timestamp' and create a new column 'day_of_week'\n",
    "df_week_day = df.withColumn('day_of_week', date_format('dep_timestamp', 'EEEE'))\n",
    "\n",
    "# Display the 'dep_timestamp' and the corresponding 'day_of_week' for the first 5 rows\n",
    "df_week_day.select('dep_timestamp', 'day_of_week').show(5)"
   ]
  },
  {
   "cell_type": "code",
   "execution_count": 93,
   "id": "5ef31080-e413-4459-b78e-814f82c3e0f4",
   "metadata": {},
   "outputs": [
    {
     "name": "stdout",
     "output_type": "stream",
     "text": [
      "+-----------+-----+\n",
      "|day_of_week|count|\n",
      "+-----------+-----+\n",
      "|    Tuesday| 4818|\n",
      "|  Wednesday| 4398|\n",
      "|   Thursday| 3966|\n",
      "|     Friday| 3886|\n",
      "|     Monday| 3425|\n",
      "|     Sunday| 3314|\n",
      "|   Saturday| 2911|\n",
      "+-----------+-----+\n",
      "\n"
     ]
    }
   ],
   "source": [
    "# Group by 'day_of_week', count the occurrences for each day, order by count in descending order, and display the results\n",
    "df_week_day.groupBy('day_of_week').count().orderBy('count', ascending=False).show()"
   ]
  },
  {
   "cell_type": "markdown",
   "id": "6a5e2768-093f-4dab-a396-c8127ca934e5",
   "metadata": {
    "jp-MarkdownHeadingCollapsed": true
   },
   "source": [
    "### <span style=\"color: darkgreen;\">**Pergunta 8:**</span> Qual o percentual mensal dos voos tiveram atraso na partida superior a 30 minutos?"
   ]
  },
  {
   "cell_type": "code",
   "execution_count": 94,
   "id": "abf342ea-6491-4466-8901-25cb2b8046bb",
   "metadata": {},
   "outputs": [
    {
     "data": {
      "text/plain": [
       "['id',\n",
       " 'origin',\n",
       " 'origin_airport_name',\n",
       " 'dep_timestamp',\n",
       " 'dep_delay',\n",
       " 'origin_wind_speed',\n",
       " 'dest',\n",
       " 'dest_airport_name',\n",
       " 'arr_timestamp',\n",
       " 'arr_delay',\n",
       " 'dest_wind_speed',\n",
       " 'carrier',\n",
       " 'name',\n",
       " 'tailnum',\n",
       " 'flight',\n",
       " 'air_time',\n",
       " 'distance']"
      ]
     },
     "execution_count": 94,
     "metadata": {},
     "output_type": "execute_result"
    }
   ],
   "source": [
    "df.columns"
   ]
  },
  {
   "cell_type": "code",
   "execution_count": 95,
   "id": "3210d784-fce0-4fc9-ae01-cd5b322560eb",
   "metadata": {},
   "outputs": [
    {
     "data": {
      "text/plain": [
       "26718"
      ]
     },
     "execution_count": 95,
     "metadata": {},
     "output_type": "execute_result"
    }
   ],
   "source": [
    "df.select('dep_timestamp','flight').count()"
   ]
  },
  {
   "cell_type": "code",
   "execution_count": 96,
   "id": "2ce6e1a5-bba1-4f7c-a5da-45d9f2e97e98",
   "metadata": {},
   "outputs": [
    {
     "name": "stdout",
     "output_type": "stream",
     "text": [
      "+-----+-------------+---------------------+-----------------------+\n",
      "|month|total_flights|total_delayed_flights|percent_delayed_flights|\n",
      "+-----+-------------+---------------------+-----------------------+\n",
      "|    1|         2950|                  407|                 13.80%|\n",
      "|    2|         3152|                  375|                 11.90%|\n",
      "|    3|         3325|                  517|                 15.55%|\n",
      "|    4|         2878|                  532|                 18.49%|\n",
      "|    5|          928|                  123|                 13.25%|\n",
      "|    6|          928|                  215|                 23.17%|\n",
      "|    7|          875|                  181|                 20.69%|\n",
      "|    8|         1173|                  146|                 12.45%|\n",
      "|    9|         1303|                  144|                 11.05%|\n",
      "|   10|         3344|                  284|                  8.49%|\n",
      "|   11|         3367|                  310|                  9.21%|\n",
      "|   12|         2495|                  421|                 16.87%|\n",
      "+-----+-------------+---------------------+-----------------------+\n",
      "\n"
     ]
    }
   ],
   "source": [
    "# Extract month from dep_timestamp\n",
    "df_with_month = df.withColumn('month', F.month('dep_timestamp'))\n",
    "\n",
    "# Calculate total flights per month\n",
    "total_flights_per_month = df_with_month.groupBy('month').agg(F.count('*').alias('total_flights'))\n",
    "\n",
    "# Calculate total flights with dep_delay > 30 per month\n",
    "delayed_flights_per_month = df_with_month.filter(F.col('dep_delay') > 30) \\\n",
    "    .groupBy('month').agg(F.count('*').alias('total_delayed_flights'))\n",
    "\n",
    "# Join both results into a final DataFrame\n",
    "final_df = total_flights_per_month.join(delayed_flights_per_month, on='month', how='left')\n",
    "\n",
    "# Calculate the percentage of delayed flights\n",
    "final_df = final_df.withColumn('percent_delayed_flights', \n",
    "                               (F.col('total_delayed_flights') / F.col('total_flights')) * 100)\n",
    "\n",
    "# Format percentage with 2 decimals and add '%' symbol\n",
    "final_df = final_df.withColumn('percent_delayed_flights', \n",
    "                               F.format_string('%.2f%%', F.col('percent_delayed_flights')))\n",
    "\n",
    "final_df.select('month', 'total_flights', 'total_delayed_flights', 'percent_delayed_flights').orderBy('month').show()"
   ]
  },
  {
   "cell_type": "markdown",
   "id": "18b55655-e6ac-493a-8c04-d1c741bcf1dc",
   "metadata": {
    "jp-MarkdownHeadingCollapsed": true
   },
   "source": [
    "### <span style=\"color: darkgreen;\">**Pergunta 9:**</span> Qual a origem mais comum para voos que pousaram em Seattle (SEA)?"
   ]
  },
  {
   "cell_type": "code",
   "execution_count": 97,
   "id": "0279f3e7-ec1a-4f42-9b71-9b84a28becc0",
   "metadata": {},
   "outputs": [
    {
     "name": "stdout",
     "output_type": "stream",
     "text": [
      "+------+------------------------------------+-------------+\n",
      "|origin|origin_airport_name                 |total_flights|\n",
      "+------+------------------------------------+-------------+\n",
      "|JFK   |John F Kennedy International Airport|172          |\n",
      "+------+------------------------------------+-------------+\n",
      "only showing top 1 row\n",
      "\n"
     ]
    }
   ],
   "source": [
    "# Filter the flights where the destination is 'SEA'\n",
    "flights_to_sea = df.filter(df.dest == 'SEA')\n",
    "\n",
    "# Group by origin and count the frequency of each origin\n",
    "common_origin = flights_to_sea.groupBy('origin', 'origin_airport_name') \\\n",
    "    .agg(F.count('*').alias('total_flights')) \\\n",
    "    .orderBy(F.col('total_flights'), ascending=False)\n",
    "\n",
    "common_origin.show(1, truncate=False)"
   ]
  },
  {
   "cell_type": "markdown",
   "id": "adc4012c-ea3f-48d0-b49e-d39be0101a14",
   "metadata": {
    "jp-MarkdownHeadingCollapsed": true
   },
   "source": [
    "### <span style=\"color: darkgreen;\">**Pergunta 10:**</span> Qual é a média de atraso na partida dos voos (dep_delay) para cada dia da semana?"
   ]
  },
  {
   "cell_type": "code",
   "execution_count": 98,
   "id": "70a2472c-128a-4b44-b133-6efd7fae14a7",
   "metadata": {},
   "outputs": [
    {
     "name": "stdout",
     "output_type": "stream",
     "text": [
      "+-----------+-------------------+\n",
      "|day_of_week|avg_dep_delay (min)|\n",
      "+-----------+-------------------+\n",
      "|     Friday|              15.78|\n",
      "|   Thursday|              14.81|\n",
      "|     Monday|              12.14|\n",
      "|     Sunday|               9.22|\n",
      "|    Tuesday|               9.08|\n",
      "|   Saturday|                8.7|\n",
      "|  Wednesday|                8.4|\n",
      "+-----------+-------------------+\n",
      "\n"
     ]
    }
   ],
   "source": [
    "df_week_day = df.withColumn('day_of_week', F.date_format('dep_timestamp', 'EEEE')) \\\n",
    "    .groupBy('day_of_week') \\\n",
    "    .agg(F.round(F.avg('dep_delay'), 2).alias('avg_dep_delay (min)')) \\\n",
    "    .orderBy('avg_dep_delay (min)', ascending=False)\n",
    "\n",
    "df_week_day.show()"
   ]
  },
  {
   "cell_type": "markdown",
   "id": "dad21943-02fe-4830-aa21-d9319d679753",
   "metadata": {
    "jp-MarkdownHeadingCollapsed": true
   },
   "source": [
    "### <span style=\"color: darkgreen;\">**Pergunta 11:**</span> Qual é a rota que teve o maior tempo de voo médio (air_time)?"
   ]
  },
  {
   "cell_type": "code",
   "execution_count": 99,
   "id": "04f0bdee-f3a5-4f09-8c04-536ac4c1f9c9",
   "metadata": {},
   "outputs": [
    {
     "name": "stdout",
     "output_type": "stream",
     "text": [
      "+------+------------------------------------+----+------------------------------------------+------------------+\n",
      "|origin|origin_airport_name                 |dest|dest_airport_name                         |avg_air_time (min)|\n",
      "+------+------------------------------------+----+------------------------------------------+------------------+\n",
      "|JFK   |John F Kennedy International Airport|OAK |Metropolitan Oakland International Airport|354.68            |\n",
      "+------+------------------------------------+----+------------------------------------------+------------------+\n",
      "only showing top 1 row\n",
      "\n"
     ]
    }
   ],
   "source": [
    "# Group and calculate the average flight time (air_time) for each route.\n",
    "longest_flight_route = df.groupBy('origin','origin_airport_name', 'dest','dest_airport_name') \\\n",
    "    .agg(F.avg('air_time').alias('avg_air_time (min)')) \\\n",
    "    .orderBy(F.col('avg_air_time (min)').desc())\n",
    "\n",
    "longest_flight_route.show(1, truncate=False)"
   ]
  },
  {
   "cell_type": "markdown",
   "id": "6308ba4d-c34e-4d11-b571-31cda25e5141",
   "metadata": {
    "jp-MarkdownHeadingCollapsed": true
   },
   "source": [
    "### <span style=\"color: darkgreen;\">**Pergunta 12:**</span> Para cada aeroporto de origem, qual é o aeroporto de destino mais comum?"
   ]
  },
  {
   "cell_type": "code",
   "execution_count": 100,
   "id": "fe32b58b-3f30-4297-851e-e7013c97c5bc",
   "metadata": {},
   "outputs": [
    {
     "name": "stderr",
     "output_type": "stream",
     "text": [
      "[Stage 440:>                                                        (0 + 1) / 1]\r"
     ]
    },
    {
     "name": "stdout",
     "output_type": "stream",
     "text": [
      "+------+------------------------------------+----+------------------------------------------------+------------+\n",
      "|origin|origin_airport_name                 |dest|dest_airport_name                               |flight_count|\n",
      "+------+------------------------------------+----+------------------------------------------------+------------+\n",
      "|EWR   |Newark Liberty International Airport|CLT |Charlotte Douglas International Airport         |527         |\n",
      "|JFK   |John F Kennedy International Airport|LAX |Los Angeles International Airport               |1044        |\n",
      "|LGA   |La Guardia Airport                  |ATL |Hartsfield Jackson Atlanta International Airport|877         |\n",
      "+------+------------------------------------+----+------------------------------------------------+------------+\n",
      "\n"
     ]
    },
    {
     "name": "stderr",
     "output_type": "stream",
     "text": [
      "                                                                                \r"
     ]
    }
   ],
   "source": [
    "from pyspark.sql import Window\n",
    "\n",
    "# Count the number of flights for each combination of origin and destination\n",
    "route_counts = df.groupBy('origin', 'origin_airport_name', 'dest', 'dest_airport_name') \\\n",
    "    .agg(F.count('*').alias('flight_count'))\n",
    "\n",
    "# Create a window partitioned by 'origin' and ordered by 'flight_count' in descending order\n",
    "window = Window.partitionBy('origin').orderBy(F.col('flight_count').desc())\n",
    "\n",
    "# Add a column with the rank of each destination by origin\n",
    "ranked_routes = route_counts.withColumn('rank', F.row_number().over(window))\n",
    "\n",
    "# Filter to keep only the most common destination (rank = 1) for each origin \\\n",
    "most_common_dest = ranked_routes.filter(F.col('rank') == 1).select('origin', 'origin_airport_name', 'dest', 'dest_airport_name', 'flight_count')  # Keep the top-ranked destination for each origin\n",
    "\n",
    "most_common_dest.show(truncate=False) "
   ]
  },
  {
   "cell_type": "markdown",
   "id": "5ea49d6e-32db-465c-806c-4c73940075c5",
   "metadata": {
    "jp-MarkdownHeadingCollapsed": true
   },
   "source": [
    "### <span style=\"color: darkgreen;\">**Pergunta 13:**</span> Quais são as 3 rotas que tiveram a maior variação no tempo médio de voo (air_time)?"
   ]
  },
  {
   "cell_type": "code",
   "execution_count": 101,
   "id": "58e7178c-1350-4fcb-95b3-42ef5bd4d5ce",
   "metadata": {},
   "outputs": [
    {
     "name": "stdout",
     "output_type": "stream",
     "text": [
      "+------+----+---------------+\n",
      "|origin|dest|stddev_air_time|\n",
      "+------+----+---------------+\n",
      "|EWR   |MTJ |40.31          |\n",
      "|JFK   |PSP |27.58          |\n",
      "|EWR   |SNA |22.05          |\n",
      "+------+----+---------------+\n",
      "only showing top 3 rows\n",
      "\n"
     ]
    }
   ],
   "source": [
    "from pyspark.sql import functions as F\n",
    "\n",
    "# Group by origin and destination and calculate the standard deviation of flight time (air_time)\n",
    "route_variation = df.groupBy('origin', 'dest').agg(\n",
    "    F.round(F.stddev('air_time'), 2).alias('stddev_air_time')\n",
    ")\n",
    "\n",
    "# Order by the routes with the highest variation (standard deviation) and select the top 3\n",
    "top_routes = route_variation.orderBy(F.col('stddev_air_time').desc())\n",
    "\n",
    "# Show the top 3 routes with the highest variation in flight time\n",
    "top_routes.show(3, truncate=False)"
   ]
  },
  {
   "cell_type": "markdown",
   "id": "cb4ee1b0-ea6c-40f3-b29b-8cf2735db663",
   "metadata": {
    "jp-MarkdownHeadingCollapsed": true
   },
   "source": [
    "### <span style=\"color: darkgreen;\">**Pergunta 14:**</span> Qual é a média de atraso na chegada para voos que tiveram atraso na partida superior a 1 hora?"
   ]
  },
  {
   "cell_type": "code",
   "execution_count": 102,
   "id": "395bfddf-e377-478b-afc3-6ac7c1af6e8b",
   "metadata": {},
   "outputs": [
    {
     "name": "stdout",
     "output_type": "stream",
     "text": [
      "Média de atraso na chegada para voos com atraso na partida > 1 hora: 116.36 minutes\n"
     ]
    }
   ],
   "source": [
    "# Filter the flights with departure delay greater than 1 hour (60 minutes)\n",
    "flights_with_large_dep_delay = df.filter(F.col('dep_delay') > 60)\n",
    "\n",
    "# Calculate the average arrival delay for these flights\n",
    "avg_arr_delay = flights_with_large_dep_delay.agg(\n",
    "    F.avg('arr_delay').alias('avg_arr_delay')\n",
    ").collect()[0]['avg_arr_delay']\n",
    "\n",
    "# Show the result\n",
    "print(f\"Média de atraso na chegada para voos com atraso na partida > 1 hora: {avg_arr_delay:.2f} minutes\")"
   ]
  },
  {
   "cell_type": "markdown",
   "id": "61d0e22b-6984-44fe-970e-5f8e09da5a5a",
   "metadata": {
    "jp-MarkdownHeadingCollapsed": true
   },
   "source": [
    "### <span style=\"color: darkgreen;\">**Pergunta 15:**</span> Qual é a média de voos diários para cada mês do ano?"
   ]
  },
  {
   "cell_type": "code",
   "execution_count": 103,
   "id": "05e9f8ee-de1d-4974-9fb1-bb14d2e52c20",
   "metadata": {},
   "outputs": [
    {
     "name": "stdout",
     "output_type": "stream",
     "text": [
      "+-----+-------------------+\n",
      "|month|avg_flights_per_day|\n",
      "+-----+-------------------+\n",
      "|    1|             128.26|\n",
      "|    2|             131.33|\n",
      "|    3|             127.88|\n",
      "|    4|             119.92|\n",
      "|    5|              40.35|\n",
      "|    6|              37.12|\n",
      "|    7|              38.04|\n",
      "|    8|              55.86|\n",
      "|    9|              52.12|\n",
      "|   10|             139.33|\n",
      "|   11|             146.39|\n",
      "|   12|             113.41|\n",
      "+-----+-------------------+\n",
      "\n"
     ]
    }
   ],
   "source": [
    "# Extract the month and day from the 'dep_timestamp' column\n",
    "df_with_date = df.withColumn('month', F.month('dep_timestamp')).withColumn('day', F.dayofmonth('dep_timestamp'))\n",
    "\n",
    "# Count the number of flights per day for each month\n",
    "flights_per_day = df_with_date.groupBy('month', 'day').agg(F.count('*').alias('flights_per_day'))\n",
    "\n",
    "# Calculate the average number of daily flights for each month, rounded to 2 decimal places\n",
    "avg_flights_per_month = flights_per_day.groupBy('month') \\\n",
    "        .agg(F.round(F.avg('flights_per_day'), 2) \\\n",
    "        .alias('avg_flights_per_day'))\n",
    "\n",
    "# Show the result ordered by month\n",
    "avg_flights_per_month.orderBy('month').show()"
   ]
  },
  {
   "cell_type": "markdown",
   "id": "515d5fdc-83c3-4758-af0b-6652e29118ca",
   "metadata": {
    "jp-MarkdownHeadingCollapsed": true
   },
   "source": [
    "### <span style=\"color: darkgreen;\">**Pergunta 16:**</span> Quais são as 3 rotas mais comuns que tiveram atrasos na chegada superiores a 30 minutos?"
   ]
  },
  {
   "cell_type": "code",
   "execution_count": 104,
   "id": "5c006b37-34bb-4490-8d9f-641cebee47eb",
   "metadata": {},
   "outputs": [
    {
     "name": "stdout",
     "output_type": "stream",
     "text": [
      "+------+------------------------------------+----+------------------------------------------------+------------+\n",
      "|origin|origin_airport_name                 |dest|dest_airport_name                               |flight_count|\n",
      "+------+------------------------------------+----+------------------------------------------------+------------+\n",
      "|LGA   |La Guardia Airport                  |ATL |Hartsfield Jackson Atlanta International Airport|121         |\n",
      "|JFK   |John F Kennedy International Airport|LAX |Los Angeles International Airport               |108         |\n",
      "|EWR   |Newark Liberty International Airport|CLT |Charlotte Douglas International Airport         |94          |\n",
      "+------+------------------------------------+----+------------------------------------------------+------------+\n",
      "only showing top 3 rows\n",
      "\n"
     ]
    }
   ],
   "source": [
    "# Filter the flights with arrival delays greater than 30 minutes\n",
    "delayed_flights = df.filter(F.col('arr_delay') > 30)\n",
    "\n",
    "# Group by origin and destination, and count the number of flights for each route\n",
    "common_routes_with_delays = delayed_flights.groupBy('origin', 'origin_airport_name', 'dest', 'dest_airport_name') \\\n",
    "    .agg(F.count('*').alias('flight_count')) \\\n",
    "    .orderBy(F.col('flight_count').desc())\n",
    "\n",
    "# Show the top 3 most common routes with arrival delays greater than 30 minutes\n",
    "common_routes_with_delays.show(3, truncate=False)"
   ]
  },
  {
   "cell_type": "markdown",
   "id": "27228368-5a04-4054-99a1-74dd6193b4f0",
   "metadata": {
    "jp-MarkdownHeadingCollapsed": true
   },
   "source": [
    "### <span style=\"color: darkgreen;\">**Pergunta 17:**</span> Para cada origem, qual o principal destino?"
   ]
  },
  {
   "cell_type": "code",
   "execution_count": 105,
   "id": "8b801583-11c7-4482-8acb-fcd3c159fa50",
   "metadata": {},
   "outputs": [
    {
     "name": "stdout",
     "output_type": "stream",
     "text": [
      "+------+------------------------------------+----+------------------------------------------------+------------+\n",
      "|origin|origin_airport_name                 |dest|dest_airport_name                               |flight_count|\n",
      "+------+------------------------------------+----+------------------------------------------------+------------+\n",
      "|EWR   |Newark Liberty International Airport|CLT |Charlotte Douglas International Airport         |527         |\n",
      "|JFK   |John F Kennedy International Airport|LAX |Los Angeles International Airport               |1044        |\n",
      "|LGA   |La Guardia Airport                  |ATL |Hartsfield Jackson Atlanta International Airport|877         |\n",
      "+------+------------------------------------+----+------------------------------------------------+------------+\n",
      "\n"
     ]
    }
   ],
   "source": [
    "# Count the number of flights for each combination of origin and destination\n",
    "route_counts = df.groupBy('origin', 'origin_airport_name', 'dest', 'dest_airport_name') \\\n",
    "    .agg(F.count('*').alias('flight_count'))\n",
    "\n",
    "# Define a window partitioned by 'origin' and ordered by 'flight_count' in descending order\n",
    "window = Window.partitionBy('origin').orderBy(F.col('flight_count').desc())\n",
    "\n",
    "# Add a ranking column for each destination by origin\n",
    "ranked_routes = route_counts.withColumn('rank', F.row_number().over(window))\n",
    "\n",
    "# Filter the top destination (rank = 1) for each origin\n",
    "main_dest_per_origin = ranked_routes.filter(F.col('rank') == 1) \\\n",
    "    .select('origin', 'origin_airport_name', 'dest', 'dest_airport_name', 'flight_count')\n",
    "\n",
    "# Show the results\n",
    "main_dest_per_origin.show(truncate=False)"
   ]
  },
  {
   "cell_type": "markdown",
   "id": "05ca764d-4d56-4ec5-8e91-ca707cbc286f",
   "metadata": {
    "jp-MarkdownHeadingCollapsed": true
   },
   "source": [
    "### <span style=\"color: darkgreen;\">**Pergunta Final:**</span> Enriqueça a base de dados de voos com as condições meteorológicas (velocidade do vento) para os aeroportos de origem e destino. Mostre as informações enriquecidas para os 5 voos com maior atraso na chegada.\n"
   ]
  },
  {
   "cell_type": "code",
   "execution_count": 111,
   "id": "7846bab6-2ac4-4e62-b972-2c6d8c5a5afb",
   "metadata": {},
   "outputs": [
    {
     "name": "stdout",
     "output_type": "stream",
     "text": [
      "+------+-------------------+---------+-----------------+----+-------------------+---------+---------------+-------+------+--------+--------+\n",
      "|origin|      dep_timestamp|dep_delay|origin_wind_speed|dest|      arr_timestamp|arr_delay|dest_wind_speed|carrier|flight|air_time|distance|\n",
      "+------+-------------------+---------+-----------------+----+-------------------+---------+---------------+-------+------+--------+--------+\n",
      "|   EWR|2013-12-20 07:34:00|    849.0|              2.9| SLC|2013-12-20 10:46:00|    847.0|            1.9|     DL|  1223|   290.0|    1969|\n",
      "|   LGA|2013-04-20 09:12:00|    812.0|              7.3| TPA|2013-04-20 12:28:00|    821.0|            4.1|     DL|  1435|   174.0|    1010|\n",
      "|   JFK|2013-03-19 10:20:00|    800.0|              6.1| LAX|2013-03-19 13:36:00|    784.0|            2.3|     DL|  2363|   335.0|    2475|\n",
      "|   JFK|2013-04-20 06:17:00|    797.0|              7.6| LAS|2013-04-20 08:58:00|    783.0|            2.9|     AA|   257|   313.0|    2248|\n",
      "|   JFK|2013-01-13 18:09:00|    599.0|              2.9| ATL|2013-01-13 20:54:00|    612.0|            3.9|     DL|   269|   116.0|     760|\n",
      "+------+-------------------+---------+-----------------+----+-------------------+---------+---------------+-------+------+--------+--------+\n",
      "only showing top 5 rows\n",
      "\n"
     ]
    }
   ],
   "source": [
    "df.select('origin',\n",
    "          'dep_timestamp',\n",
    "          'dep_delay',\n",
    "          'origin_wind_speed',\n",
    "          'dest',\n",
    "          'arr_timestamp',\n",
    "          'arr_delay',\n",
    "          'dest_wind_speed',\n",
    "          'carrier',\n",
    "          'flight',\n",
    "          'air_time',\n",
    "          'distance').orderBy('arr_delay', ascending=False).show(5)"
   ]
  },
  {
   "cell_type": "markdown",
   "id": "b2a86121-75eb-4533-adad-3f886ebae1d4",
   "metadata": {
    "jp-MarkdownHeadingCollapsed": true
   },
   "source": [
    "# 3. <span style=\"color: darkblue;\">Model Training and Evaluation</span>"
   ]
  },
  {
   "cell_type": "markdown",
   "id": "7e6a05d9-bde0-4dbb-9295-3e7e857af06f",
   "metadata": {
    "jp-MarkdownHeadingCollapsed": true
   },
   "source": [
    "### Loading Final Cleaned Data"
   ]
  },
  {
   "cell_type": "code",
   "execution_count": 6,
   "id": "ff01327d-6187-4fe4-9288-76cdb27bf212",
   "metadata": {},
   "outputs": [
    {
     "name": "stderr",
     "output_type": "stream",
     "text": [
      "                                                                                \r"
     ]
    }
   ],
   "source": [
    "df = spark.read.csv('./data/df_final.csv', header=True, inferSchema=True)"
   ]
  },
  {
   "cell_type": "code",
   "execution_count": 7,
   "id": "570f06e5-bcf5-4e90-8eaa-7bf7bb40fd71",
   "metadata": {},
   "outputs": [
    {
     "data": {
      "text/plain": [
       "26718"
      ]
     },
     "execution_count": 7,
     "metadata": {},
     "output_type": "execute_result"
    }
   ],
   "source": [
    "df.count()"
   ]
  },
  {
   "cell_type": "markdown",
   "id": "0af8add1-2c40-464a-b27c-c3f99d1eaeef",
   "metadata": {
    "jp-MarkdownHeadingCollapsed": true
   },
   "source": [
    "## 3.1 Helper Functions"
   ]
  },
  {
   "cell_type": "markdown",
   "id": "28605900-9a19-4169-aad3-a53e27058597",
   "metadata": {
    "jp-MarkdownHeadingCollapsed": true
   },
   "source": [
    "### 3.1.1 Model Evaluation Metrics"
   ]
  },
  {
   "cell_type": "code",
   "execution_count": 8,
   "id": "bacd53f8-f1bc-4444-a3ee-e8cc9b2778fb",
   "metadata": {},
   "outputs": [],
   "source": [
    "from pyspark.ml.evaluation import RegressionEvaluator\n",
    "\n",
    "def print_model_eval_metrics(predictions):\n",
    "    # Calculate RMSE using RegressionEvaluator\n",
    "    evaluator_rmse = RegressionEvaluator(labelCol=\"arr_delay\", predictionCol=\"prediction\", metricName='rmse')\n",
    "    rmse = evaluator_rmse.evaluate(predictions)\n",
    "    \n",
    "    # Calculate R² using RegressionEvaluator\n",
    "    evaluator_r2 = RegressionEvaluator(labelCol=\"arr_delay\", predictionCol=\"prediction\", metricName='r2')\n",
    "    r2 = evaluator_r2.evaluate(predictions)\n",
    "\n",
    "    # Number of data points (n) and number of features (p)\n",
    "    n = predictions.count()\n",
    "    p = len(selected_features) + 1\n",
    "    \n",
    "    # Calculate Adjusted R²\n",
    "    adjusted_r2 = 1 - ((1 - r2) * (n - 1) / (n - p - 1))\n",
    "    \n",
    "    # Print the results\n",
    "    print(f\"Root Mean Squared Error (RMSE): {rmse:.4f}\")\n",
    "    print(f\"R²: {r2:.4f}\")\n",
    "    print(f\"Adjusted R²: {adjusted_r2:.4f}\")"
   ]
  },
  {
   "cell_type": "markdown",
   "id": "106172e0-a404-41ce-89d3-b28f9ac452b3",
   "metadata": {
    "jp-MarkdownHeadingCollapsed": true
   },
   "source": [
    "### 3.1.2 Scatter Plot Real vs Predicted"
   ]
  },
  {
   "cell_type": "code",
   "execution_count": 9,
   "id": "a72442bc-af58-4461-8507-d79eea45d799",
   "metadata": {},
   "outputs": [],
   "source": [
    "import matplotlib.pyplot as plt\n",
    "import pandas as pd\n",
    "import numpy as np\n",
    "\n",
    "def plot_scatter_delay(predictions):\n",
    "    # Convert data to a pandas DataFrame from the PySpark DataFrame\n",
    "    df_plot = predictions.select('arr_delay', 'prediction').toPandas()\n",
    "    \n",
    "    # Create a scatter plot\n",
    "    plt.figure(figsize=(8, 6))\n",
    "    plt.scatter(df_plot['arr_delay'], df_plot['prediction'], color='blue', label='Predictions')\n",
    "    \n",
    "    # Plot settings\n",
    "    plt.xlabel('Actual Arrival Delay')\n",
    "    plt.ylabel('Predicted Arrival Delay')\n",
    "    plt.title('Scatter Plot of Actual vs Predicted Arrival Delay with Regression Line')\n",
    "    plt.grid(True)\n",
    "    plt.legend()\n",
    "    plt.show()"
   ]
  },
  {
   "cell_type": "markdown",
   "id": "53ce246e-b1f9-452b-9b92-21689d8ff5a7",
   "metadata": {
    "jp-MarkdownHeadingCollapsed": true
   },
   "source": [
    "## 3.2 Variável Dependente"
   ]
  },
  {
   "cell_type": "code",
   "execution_count": 20,
   "id": "e42faa68-2a0f-499d-bdea-02199ae882f5",
   "metadata": {},
   "outputs": [
    {
     "data": {
      "image/png": "[encoded data removed]",
      "text/plain": [
       "<Figure size 1000x600 with 1 Axes>"
      ]
     },
     "metadata": {},
     "output_type": "display_data"
    }
   ],
   "source": [
    "import matplotlib.pyplot as plt\n",
    "\n",
    "arr_delay_pd = df.select('arr_delay').toPandas()\n",
    "\n",
    "plt.figure(figsize=(10,6))\n",
    "plt.hist(arr_delay_pd['arr_delay'], bins=100, edgecolor='black', alpha=0.7)\n",
    "plt.title('Histogram of Arrival Delay (arr_delay)')\n",
    "plt.xlabel('Arrival Delay (minutes)')\n",
    "plt.ylabel('Frequency')\n",
    "plt.show()"
   ]
  },
  {
   "cell_type": "markdown",
   "id": "b838e894-5087-4b6f-b4fe-45a91d60f587",
   "metadata": {
    "jp-MarkdownHeadingCollapsed": true
   },
   "source": [
    "## 3.3 Features and Train Test Split"
   ]
  },
  {
   "cell_type": "code",
   "execution_count": 117,
   "id": "b72d2773-dc39-4f91-8c4d-87d3ea8387a5",
   "metadata": {},
   "outputs": [
    {
     "name": "stderr",
     "output_type": "stream",
     "text": [
      "                                                                                \r"
     ]
    }
   ],
   "source": [
    "from pyspark.ml.feature import StandardScaler, StringIndexer, VectorAssembler\n",
    "from pyspark.ml.evaluation import RegressionEvaluator\n",
    "\n",
    "\n",
    "# Select features to use in the model\n",
    "selected_features = ['dep_delay', 'origin_wind_speed', 'dest_wind_speed', 'distance']\n",
    "\n",
    "# Handle categorical variables (e.g., carrier, origin, dest)\n",
    "indexers = [StringIndexer(inputCol=column, outputCol=column+\"_index\").fit(df) \n",
    "            for column in ['carrier']]\n",
    "\n",
    "# Apply the indexers\n",
    "for indexer in indexers:\n",
    "    df = indexer.transform(df)\n",
    "\n",
    "# Assemble all features into a single vector column\n",
    "assembler = VectorAssembler(\n",
    "    inputCols=selected_features + ['carrier_index'],\n",
    "    outputCol=\"features\"\n",
    ")\n",
    "\n",
    "df = assembler.transform(df)\n",
    "\n",
    "# Scaling Features\n",
    "scaler = StandardScaler(inputCol=\"features\", outputCol=\"scaledFeatures\", withStd=True, withMean=False)\n",
    "scalerModel = scaler.fit(df)\n",
    "df = scalerModel.transform(df)\n",
    "\n",
    "# Select the feature vector and the target variable (arr_delay)\n",
    "df = df.select('features', 'arr_delay')\n",
    "\n",
    "# Split the data into training and test sets (80% training, 20% testing)\n",
    "train_df, test_df = df.randomSplit([0.8, 0.2], seed=42)"
   ]
  },
  {
   "cell_type": "markdown",
   "id": "2f55e476-3194-4b6b-b6e5-1742c0d36d88",
   "metadata": {
    "jp-MarkdownHeadingCollapsed": true
   },
   "source": [
    "## 3.4 Models"
   ]
  },
  {
   "cell_type": "markdown",
   "id": "46abc38c-cd08-4490-b7b8-73ae0627303b",
   "metadata": {
    "jp-MarkdownHeadingCollapsed": true
   },
   "source": [
    "### 3.4.1 Linear Regression"
   ]
  },
  {
   "cell_type": "code",
   "execution_count": 118,
   "id": "7abeae88-c2a4-477f-8e47-f113b26ae0c1",
   "metadata": {},
   "outputs": [
    {
     "name": "stderr",
     "output_type": "stream",
     "text": [
      "                                                                                \r"
     ]
    }
   ],
   "source": [
    "from pyspark.ml.regression import LinearRegression\n",
    "\n",
    "# Create and train the linear regression model\n",
    "lr = LinearRegression(labelCol=\"arr_delay\", featuresCol=\"features\")\n",
    "lr_model = lr.fit(train_df)\n",
    "\n",
    "# Make predictions on the test set\n",
    "predictions_lr = lr_model.transform(test_df)"
   ]
  },
  {
   "cell_type": "code",
   "execution_count": 119,
   "id": "225fe134-e566-4514-bb62-ff3febbe2cf5",
   "metadata": {},
   "outputs": [
    {
     "name": "stdout",
     "output_type": "stream",
     "text": [
      "Root Mean Squared Error (RMSE): 17.3940\n",
      "R²: 0.8231\n",
      "Adjusted R²: 0.8229\n"
     ]
    }
   ],
   "source": [
    "print_model_eval_metrics(predictions_lr)"
   ]
  },
  {
   "cell_type": "code",
   "execution_count": 120,
   "id": "6767b7f0-5cc0-482e-9fe4-ce59b7fe9cc9",
   "metadata": {},
   "outputs": [
    {
     "data": {
      "image/png": "[encoded data removed]",
      "text/plain": [
       "<Figure size 800x600 with 1 Axes>"
      ]
     },
     "metadata": {},
     "output_type": "display_data"
    }
   ],
   "source": [
    "plot_scatter_delay(predictions_lr)"
   ]
  },
  {
   "cell_type": "code",
   "execution_count": 121,
   "id": "0948a485-cb87-43f6-a91a-29703a66e7b6",
   "metadata": {},
   "outputs": [
    {
     "name": "stdout",
     "output_type": "stream",
     "text": [
      "dep_delay: 1.0181\n",
      "origin_wind_speed: 0.1127\n",
      "dest_wind_speed: 0.5267\n",
      "distance: -0.0027\n",
      "carrier_index: 0.0173\n"
     ]
    }
   ],
   "source": [
    "# Print the coefficients\n",
    "coefficients = lr_model.coefficients\n",
    "\n",
    "# Feature names (you might want to adjust based on your actual feature columns)\n",
    "feature_names = ['dep_delay', 'origin_wind_speed', 'dest_wind_speed', 'distance', 'carrier_index']\n",
    "\n",
    "# Zip the feature names with the corresponding coefficients and print them\n",
    "for feature, coef in zip(feature_names, coefficients):\n",
    "    print(f\"{feature}: {coef:.4f}\")"
   ]
  },
  {
   "cell_type": "markdown",
   "id": "dc85514c-e286-4937-ade0-99ba69b27856",
   "metadata": {
    "jp-MarkdownHeadingCollapsed": true
   },
   "source": [
    "### 3.4.2 Random Forest Regressor"
   ]
  },
  {
   "cell_type": "code",
   "execution_count": 122,
   "id": "4ef8ec34-4c2b-4719-8315-c44a1bedcb0a",
   "metadata": {
    "scrolled": true
   },
   "outputs": [
    {
     "name": "stderr",
     "output_type": "stream",
     "text": [
      "                                                                                \r"
     ]
    }
   ],
   "source": [
    "from pyspark.ml.regression import RandomForestRegressor\n",
    "from pyspark.ml.tuning import ParamGridBuilder, CrossValidator\n",
    "\n",
    "\n",
    "# Initialize the RandomForestRegressor model\n",
    "rf = RandomForestRegressor(labelCol=\"arr_delay\", featuresCol=\"features\")\n",
    "\n",
    "# Create a parameter grid for grid search\n",
    "paramGrid = ParamGridBuilder() \\\n",
    "    .addGrid(rf.numTrees, [5, 10, 20, 50]) \\\n",
    "    .addGrid(rf.maxDepth, [3, 6]) \\\n",
    "    .build()\n",
    "\n",
    "# Initialize the evaluator\n",
    "evaluator = RegressionEvaluator(labelCol=\"arr_delay\", predictionCol=\"prediction\", metricName=\"rmse\")\n",
    "\n",
    "# Set up 3-fold cross-validation\n",
    "crossval = CrossValidator(estimator=rf,\n",
    "                          estimatorParamMaps=paramGrid,\n",
    "                          evaluator=evaluator,\n",
    "                          numFolds=3)  # 3-fold cross-validation\n",
    "\n",
    "# Train the model using cross-validation\n",
    "cv_model_rf = crossval.fit(train_df)\n",
    "\n",
    "# Make predictions on the test set\n",
    "predictions_rf = cv_model_rf.transform(test_df)"
   ]
  },
  {
   "cell_type": "code",
   "execution_count": 123,
   "id": "00eaf934-c98b-4478-a1ac-2fa1db596478",
   "metadata": {},
   "outputs": [
    {
     "name": "stderr",
     "output_type": "stream",
     "text": [
      "                                                                                \r"
     ]
    },
    {
     "name": "stdout",
     "output_type": "stream",
     "text": [
      "Root Mean Squared Error (RMSE): 22.0238\n",
      "R²: 0.7164\n",
      "Adjusted R²: 0.7161\n"
     ]
    }
   ],
   "source": [
    "print_model_eval_metrics(predictions_rf)"
   ]
  },
  {
   "cell_type": "code",
   "execution_count": 124,
   "id": "e01a40c4-0bc8-4e6e-b56c-59280700a5b3",
   "metadata": {},
   "outputs": [
    {
     "data": {
      "image/png": "[encoded data removed]",
      "text/plain": [
       "<Figure size 800x600 with 1 Axes>"
      ]
     },
     "metadata": {},
     "output_type": "display_data"
    }
   ],
   "source": [
    "plot_scatter_delay(predictions_rf)"
   ]
  },
  {
   "cell_type": "code",
   "execution_count": 125,
   "id": "17532a0b-7e75-4dfe-b1c5-aa76e50f9b08",
   "metadata": {},
   "outputs": [
    {
     "name": "stdout",
     "output_type": "stream",
     "text": [
      "Random Forest Regressor Best Model Hyperparams:\n",
      "--------------------------------------------------\n",
      "numFeatures: 5\n",
      "numTrees: 50\n",
      "maxDepth: 6\n"
     ]
    }
   ],
   "source": [
    "best_model_rf = cv_model_rf.bestModel\n",
    "\n",
    "print(\"Random Forest Regressor Best Model Hyperparams:\")\n",
    "print(\"-\"*50)\n",
    "print(f\"numFeatures: {best_model_rf.numFeatures}\")\n",
    "print(f\"numTrees: {best_model_rf.getNumTrees}\")\n",
    "print(f\"maxDepth: {best_model_rf.getMaxDepth()}\")"
   ]
  },
  {
   "cell_type": "code",
   "execution_count": 126,
   "id": "ee3098b2-ed18-408e-95cc-48f8497a123c",
   "metadata": {},
   "outputs": [
    {
     "name": "stdout",
     "output_type": "stream",
     "text": [
      "dep_delay: 0.9329\n",
      "origin_wind_speed: 0.0122\n",
      "dest_wind_speed: 0.0159\n",
      "air_time: 0.0142\n",
      "distance: 0.0248\n"
     ]
    }
   ],
   "source": [
    "# Print feature importances\n",
    "importances = best_model_rf.featureImportances\n",
    "\n",
    "# Feature names (you should adjust this to match your actual features used in the VectorAssembler)\n",
    "feature_names = ['dep_delay', 'origin_wind_speed', 'dest_wind_speed', 'air_time', 'distance', 'carrier_index', 'origin_index']\n",
    "\n",
    "# Zip the feature names with the importances and print them\n",
    "for feature, importance in zip(feature_names, importances):\n",
    "    print(f\"{feature}: {importance:.4f}\")"
   ]
  },
  {
   "cell_type": "markdown",
   "id": "d3095e55-c504-4cff-9336-4bb077250068",
   "metadata": {
    "jp-MarkdownHeadingCollapsed": true
   },
   "source": [
    "### 3.4.3 GBT Regressor"
   ]
  },
  {
   "cell_type": "code",
   "execution_count": 127,
   "id": "3d7bc8a5-068a-4d30-ade1-be531114c489",
   "metadata": {},
   "outputs": [
    {
     "name": "stderr",
     "output_type": "stream",
     "text": [
      "                                                                                \r"
     ]
    }
   ],
   "source": [
    "from pyspark.ml.regression import GBTRegressor\n",
    "\n",
    "# Initialize the GBTRegressor model\n",
    "gbt = GBTRegressor(labelCol=\"arr_delay\", featuresCol=\"features\")\n",
    "\n",
    "# Create a parameter grid for grid search\n",
    "paramGrid = ParamGridBuilder() \\\n",
    "    .addGrid(gbt.maxIter, [10, 20, 50]) \\\n",
    "    .addGrid(gbt.maxDepth, [3, 6]) \\\n",
    "    .build()\n",
    "\n",
    "# Initialize the evaluator\n",
    "evaluator = RegressionEvaluator(labelCol=\"arr_delay\", predictionCol=\"prediction\", metricName=\"rmse\")\n",
    "\n",
    "# Set up 3-fold cross-validation\n",
    "crossval = CrossValidator(estimator=gbt,\n",
    "                          estimatorParamMaps=paramGrid,\n",
    "                          evaluator=evaluator,\n",
    "                          numFolds=3)  # 3-fold cross-validation\n",
    "\n",
    "# Run cross-validation, and choose the best set of parameters\n",
    "cv_model_gbt = crossval.fit(train_df)\n",
    "\n",
    "# Make predictions on the test set\n",
    "predictions_gbt = cv_model_gbt.transform(test_df)"
   ]
  },
  {
   "cell_type": "code",
   "execution_count": 128,
   "id": "21a4f5c0-f593-480a-8018-1afc096827e4",
   "metadata": {},
   "outputs": [
    {
     "name": "stdout",
     "output_type": "stream",
     "text": [
      "Root Mean Squared Error (RMSE): 20.9767\n",
      "R²: 0.7427\n",
      "Adjusted R²: 0.7424\n"
     ]
    }
   ],
   "source": [
    "print_model_eval_metrics(predictions_gbt)"
   ]
  },
  {
   "cell_type": "code",
   "execution_count": 129,
   "id": "5b7eb9b5-7638-43d2-a46d-5341560f20e3",
   "metadata": {},
   "outputs": [
    {
     "data": {
      "image/png": "[encoded data removed]",
      "text/plain": [
       "<Figure size 800x600 with 1 Axes>"
      ]
     },
     "metadata": {},
     "output_type": "display_data"
    }
   ],
   "source": [
    "plot_scatter_delay(predictions_gbt)"
   ]
  },
  {
   "cell_type": "code",
   "execution_count": 130,
   "id": "75fd3c0c-8aad-4525-ae10-3c4c41e5eb32",
   "metadata": {},
   "outputs": [
    {
     "name": "stdout",
     "output_type": "stream",
     "text": [
      "GBTRegressor Best Model Hyperparams:\n",
      "----------------------------------------\n",
      "numFeatures: 5\n",
      "numTrees: 50\n",
      "maxDepth: 3\n"
     ]
    }
   ],
   "source": [
    "best_model_gbt = cv_model_gbt.bestModel\n",
    "\n",
    "print(\"GBTRegressor Best Model Hyperparams:\")\n",
    "print(\"-\"*40)\n",
    "print(f\"numFeatures: {best_model_gbt.numFeatures}\")\n",
    "print(f\"numTrees: {best_model_gbt.getNumTrees}\")\n",
    "print(f\"maxDepth: {best_model_gbt.getMaxDepth()}\")"
   ]
  },
  {
   "cell_type": "code",
   "execution_count": 131,
   "id": "3b82f7d3-77e5-4d97-ba51-dbb4e652f3a0",
   "metadata": {},
   "outputs": [
    {
     "name": "stdout",
     "output_type": "stream",
     "text": [
      "dep_delay: 0.8151\n",
      "origin_wind_speed: 0.0369\n",
      "dest_wind_speed: 0.0479\n",
      "air_time: 0.0424\n",
      "distance: 0.0577\n"
     ]
    }
   ],
   "source": [
    "# Print feature importances\n",
    "importances = best_model_gbt.featureImportances\n",
    "\n",
    "# Feature names (you should adjust this to match your actual features used in the VectorAssembler)\n",
    "feature_names = ['dep_delay', 'origin_wind_speed', 'dest_wind_speed', 'air_time', 'distance', 'carrier_index', 'origin_index']\n",
    "\n",
    "# Zip the feature names with the importances and print them\n",
    "for feature, importance in zip(feature_names, importances):\n",
    "    print(f\"{feature}: {importance:.4f}\")"
   ]
  },
  {
   "cell_type": "markdown",
   "id": "76d89e43-4e3e-4a1d-a061-7c70f3e5ab32",
   "metadata": {
    "jp-MarkdownHeadingCollapsed": true
   },
   "source": [
    "## 3.5 Final Pyspark Model"
   ]
  },
  {
   "cell_type": "code",
   "execution_count": 132,
   "id": "b6018ae6-057f-45d1-9954-4526c76b23fd",
   "metadata": {},
   "outputs": [
    {
     "name": "stderr",
     "output_type": "stream",
     "text": [
      "                                                                                \r"
     ]
    }
   ],
   "source": [
    "from pyspark.ml import Pipeline\n",
    "from pyspark.ml.feature import StandardScaler, StringIndexer, VectorAssembler\n",
    "from pyspark.ml.regression import LinearRegression\n",
    "from pyspark.ml.evaluation import RegressionEvaluator\n",
    "\n",
    "# Import the CSV file back into a DataFrame\n",
    "df = spark.read.csv('df_final.csv', header=True, inferSchema=True)\n",
    "df = df.select('dep_delay', 'origin_wind_speed', 'dest_wind_speed', 'distance', 'carrier', 'arr_delay')\n",
    "\n",
    "# Select features to use in the model\n",
    "num_features = ['dep_delay', 'origin_wind_speed', 'dest_wind_speed', 'distance']\n",
    "\n",
    "# Handle the categorical variable 'carrier' with StringIndexer\n",
    "carrier_indexer = StringIndexer(inputCol='carrier', outputCol='carrier_index')\n",
    "\n",
    "# Assemble all features into a single vector column\n",
    "assembler = VectorAssembler(\n",
    "    inputCols=num_features + ['carrier_index'],\n",
    "    outputCol=\"features\"\n",
    ")\n",
    "\n",
    "# Scaling Features\n",
    "scaler = StandardScaler(inputCol=\"features\", outputCol=\"scaledFeatures\", withStd=True, withMean=False)\n",
    "\n",
    "# Define the regression model (e.g., Linear Regression)\n",
    "lr = LinearRegression(featuresCol='scaledFeatures', labelCol='arr_delay')\n",
    "\n",
    "# Create a pipeline with all stages (StringIndexer, VectorAssembler, StandardScaler, LinearRegression)\n",
    "pipeline = Pipeline(stages=[carrier_indexer, assembler, scaler, lr])\n",
    "\n",
    "# Fit the pipeline on the training data\n",
    "pipeline_model = pipeline.fit(df)"
   ]
  },
  {
   "cell_type": "markdown",
   "id": "8ac46805-30f0-4a8e-9acf-3eeea7eda88b",
   "metadata": {},
   "source": [
    "### Saving the Final Pyspark Model"
   ]
  },
  {
   "cell_type": "code",
   "execution_count": 133,
   "id": "4b666d31-b763-4f8b-8d82-ccea18d78709",
   "metadata": {},
   "outputs": [
    {
     "name": "stderr",
     "output_type": "stream",
     "text": [
      "                                                                                \r"
     ]
    }
   ],
   "source": [
    "# Save the trained Linear Regression model\n",
    "model_path = \"../models/lr_model_pyspark\"\n",
    "pipeline_model.write().overwrite().save(model_path)"
   ]
  },
  {
   "cell_type": "markdown",
   "id": "90c646e3-1c0b-44da-aae5-bf0b33a754b6",
   "metadata": {
    "jp-MarkdownHeadingCollapsed": true
   },
   "source": [
    "## 3.6 Training a Scikit-Learn Model for pickle"
   ]
  },
  {
   "cell_type": "code",
   "execution_count": 134,
   "id": "1f2bd5f4-d58c-4cbe-bd11-aac016e23d85",
   "metadata": {},
   "outputs": [],
   "source": [
    "df_spark = spark.read.csv('df_final.csv', header=True, inferSchema=True)"
   ]
  },
  {
   "cell_type": "code",
   "execution_count": 135,
   "id": "c76b531d-3040-46b2-9b78-f994fd3be850",
   "metadata": {},
   "outputs": [
    {
     "name": "stderr",
     "output_type": "stream",
     "text": [
      "                                                                                \r"
     ]
    }
   ],
   "source": [
    "import pandas as pd\n",
    "\n",
    "df = df_spark.toPandas()"
   ]
  },
  {
   "cell_type": "code",
   "execution_count": 136,
   "id": "07fdc88f-43a1-40d3-bc14-148940db192d",
   "metadata": {},
   "outputs": [
    {
     "data": {
      "text/plain": [
       "Index(['id', 'origin', 'origin_airport_name', 'dep_timestamp', 'dep_delay',\n",
       "       'origin_wind_speed', 'dest', 'dest_airport_name', 'arr_timestamp',\n",
       "       'arr_delay', 'dest_wind_speed', 'carrier', 'name', 'tailnum', 'flight',\n",
       "       'air_time', 'distance'],\n",
       "      dtype='object')"
      ]
     },
     "execution_count": 136,
     "metadata": {},
     "output_type": "execute_result"
    }
   ],
   "source": [
    "df.columns"
   ]
  },
  {
   "cell_type": "markdown",
   "id": "2fe95bf0-790c-4bba-b25e-8a82476c1cd0",
   "metadata": {
    "jp-MarkdownHeadingCollapsed": true
   },
   "source": [
    "### 3.6.1 Train Test Split"
   ]
  },
  {
   "cell_type": "code",
   "execution_count": 137,
   "id": "609bd746-8037-4fad-96d6-dffbddccdce9",
   "metadata": {},
   "outputs": [],
   "source": [
    "from sklearn.model_selection import train_test_split\n",
    "from sklearn.preprocessing import StandardScaler, OneHotEncoder\n",
    "from sklearn.compose import ColumnTransformer\n",
    "import pandas as pd\n",
    "\n",
    "# Assuming df is the DataFrame obtained from the previous step\n",
    "# Select features and target variable\n",
    "X = df[['dep_delay', 'origin_wind_speed', 'dest_wind_speed', 'distance', 'carrier']]\n",
    "y = df['arr_delay']\n",
    "\n",
    "# Define the columns for scaling and encoding\n",
    "numeric_features = ['dep_delay', 'origin_wind_speed', 'dest_wind_speed', 'distance']\n",
    "categorical_features = ['carrier']  # Replace with your actual categorical feature name(s)\n",
    "\n",
    "# Define the ColumnTransformer to apply different preprocessing to different columns\n",
    "preprocessor = ColumnTransformer(\n",
    "    transformers=[\n",
    "        ('num', StandardScaler(), numeric_features),\n",
    "        ('cat', OneHotEncoder(handle_unknown='ignore',drop='first'), categorical_features)\n",
    "    ]\n",
    ")\n",
    "\n",
    "# Split data into training and testing sets\n",
    "X_train, X_test, y_train, y_test = train_test_split(X, y, test_size=0.2, random_state=42)\n",
    "\n",
    "# Fit the preprocessor on the training data and transform both training and test data\n",
    "X_train_processed = preprocessor.fit_transform(X_train)\n",
    "X_test_processed = preprocessor.transform(X_test)"
   ]
  },
  {
   "cell_type": "markdown",
   "id": "b814025c-589a-477d-aa02-36ca891e8e31",
   "metadata": {
    "jp-MarkdownHeadingCollapsed": true
   },
   "source": [
    "### 3.6.2 Linear Model"
   ]
  },
  {
   "cell_type": "code",
   "execution_count": 138,
   "id": "4c572f2c-1105-477a-83b4-8440d94fee90",
   "metadata": {},
   "outputs": [
    {
     "data": {
      "text/html": [
       "<style>#sk-container-id-1 {\n",
       "  /* Definition of color scheme common for light and dark mode */\n",
       "  --sklearn-color-text: black;\n",
       "  --sklearn-color-line: gray;\n",
       "  /* Definition of color scheme for unfitted estimators */\n",
       "  --sklearn-color-unfitted-level-0: #fff5e6;\n",
       "  --sklearn-color-unfitted-level-1: #f6e4d2;\n",
       "  --sklearn-color-unfitted-level-2: #ffe0b3;\n",
       "  --sklearn-color-unfitted-level-3: chocolate;\n",
       "  /* Definition of color scheme for fitted estimators */\n",
       "  --sklearn-color-fitted-level-0: #f0f8ff;\n",
       "  --sklearn-color-fitted-level-1: #d4ebff;\n",
       "  --sklearn-color-fitted-level-2: #b3dbfd;\n",
       "  --sklearn-color-fitted-level-3: cornflowerblue;\n",
       "\n",
       "  /* Specific color for light theme */\n",
       "  --sklearn-color-text-on-default-background: var(--sg-text-color, var(--theme-code-foreground, var(--jp-content-font-color1, black)));\n",
       "  --sklearn-color-background: var(--sg-background-color, var(--theme-background, var(--jp-layout-color0, white)));\n",
       "  --sklearn-color-border-box: var(--sg-text-color, var(--theme-code-foreground, var(--jp-content-font-color1, black)));\n",
       "  --sklearn-color-icon: #696969;\n",
       "\n",
       "  @media (prefers-color-scheme: dark) {\n",
       "    /* Redefinition of color scheme for dark theme */\n",
       "    --sklearn-color-text-on-default-background: var(--sg-text-color, var(--theme-code-foreground, var(--jp-content-font-color1, white)));\n",
       "    --sklearn-color-background: var(--sg-background-color, var(--theme-background, var(--jp-layout-color0, #111)));\n",
       "    --sklearn-color-border-box: var(--sg-text-color, var(--theme-code-foreground, var(--jp-content-font-color1, white)));\n",
       "    --sklearn-color-icon: #878787;\n",
       "  }\n",
       "}\n",
       "\n",
       "#sk-container-id-1 {\n",
       "  color: var(--sklearn-color-text);\n",
       "}\n",
       "\n",
       "#sk-container-id-1 pre {\n",
       "  padding: 0;\n",
       "}\n",
       "\n",
       "#sk-container-id-1 input.sk-hidden--visually {\n",
       "  border: 0;\n",
       "  clip: rect(1px 1px 1px 1px);\n",
       "  clip: rect(1px, 1px, 1px, 1px);\n",
       "  height: 1px;\n",
       "  margin: -1px;\n",
       "  overflow: hidden;\n",
       "  padding: 0;\n",
       "  position: absolute;\n",
       "  width: 1px;\n",
       "}\n",
       "\n",
       "#sk-container-id-1 div.sk-dashed-wrapped {\n",
       "  border: 1px dashed var(--sklearn-color-line);\n",
       "  margin: 0 0.4em 0.5em 0.4em;\n",
       "  box-sizing: border-box;\n",
       "  padding-bottom: 0.4em;\n",
       "  background-color: var(--sklearn-color-background);\n",
       "}\n",
       "\n",
       "#sk-container-id-1 div.sk-container {\n",
       "  /* jupyter's `normalize.less` sets `[hidden] { display: none; }`\n",
       "     but bootstrap.min.css set `[hidden] { display: none !important; }`\n",
       "     so we also need the `!important` here to be able to override the\n",
       "     default hidden behavior on the sphinx rendered scikit-learn.org.\n",
       "     See: https://github.com/scikit-learn/scikit-learn/issues/21755 */\n",
       "  display: inline-block !important;\n",
       "  position: relative;\n",
       "}\n",
       "\n",
       "#sk-container-id-1 div.sk-text-repr-fallback {\n",
       "  display: none;\n",
       "}\n",
       "\n",
       "div.sk-parallel-item,\n",
       "div.sk-serial,\n",
       "div.sk-item {\n",
       "  /* draw centered vertical line to link estimators */\n",
       "  background-image: linear-gradient(var(--sklearn-color-text-on-default-background), var(--sklearn-color-text-on-default-background));\n",
       "  background-size: 2px 100%;\n",
       "  background-repeat: no-repeat;\n",
       "  background-position: center center;\n",
       "}\n",
       "\n",
       "/* Parallel-specific style estimator block */\n",
       "\n",
       "#sk-container-id-1 div.sk-parallel-item::after {\n",
       "  content: \"\";\n",
       "  width: 100%;\n",
       "  border-bottom: 2px solid var(--sklearn-color-text-on-default-background);\n",
       "  flex-grow: 1;\n",
       "}\n",
       "\n",
       "#sk-container-id-1 div.sk-parallel {\n",
       "  display: flex;\n",
       "  align-items: stretch;\n",
       "  justify-content: center;\n",
       "  background-color: var(--sklearn-color-background);\n",
       "  position: relative;\n",
       "}\n",
       "\n",
       "#sk-container-id-1 div.sk-parallel-item {\n",
       "  display: flex;\n",
       "  flex-direction: column;\n",
       "}\n",
       "\n",
       "#sk-container-id-1 div.sk-parallel-item:first-child::after {\n",
       "  align-self: flex-end;\n",
       "  width: 50%;\n",
       "}\n",
       "\n",
       "#sk-container-id-1 div.sk-parallel-item:last-child::after {\n",
       "  align-self: flex-start;\n",
       "  width: 50%;\n",
       "}\n",
       "\n",
       "#sk-container-id-1 div.sk-parallel-item:only-child::after {\n",
       "  width: 0;\n",
       "}\n",
       "\n",
       "/* Serial-specific style estimator block */\n",
       "\n",
       "#sk-container-id-1 div.sk-serial {\n",
       "  display: flex;\n",
       "  flex-direction: column;\n",
       "  align-items: center;\n",
       "  background-color: var(--sklearn-color-background);\n",
       "  padding-right: 1em;\n",
       "  padding-left: 1em;\n",
       "}\n",
       "\n",
       "\n",
       "/* Toggleable style: style used for estimator/Pipeline/ColumnTransformer box that is\n",
       "clickable and can be expanded/collapsed.\n",
       "- Pipeline and ColumnTransformer use this feature and define the default style\n",
       "- Estimators will overwrite some part of the style using the `sk-estimator` class\n",
       "*/\n",
       "\n",
       "/* Pipeline and ColumnTransformer style (default) */\n",
       "\n",
       "#sk-container-id-1 div.sk-toggleable {\n",
       "  /* Default theme specific background. It is overwritten whether we have a\n",
       "  specific estimator or a Pipeline/ColumnTransformer */\n",
       "  background-color: var(--sklearn-color-background);\n",
       "}\n",
       "\n",
       "/* Toggleable label */\n",
       "#sk-container-id-1 label.sk-toggleable__label {\n",
       "  cursor: pointer;\n",
       "  display: block;\n",
       "  width: 100%;\n",
       "  margin-bottom: 0;\n",
       "  padding: 0.5em;\n",
       "  box-sizing: border-box;\n",
       "  text-align: center;\n",
       "}\n",
       "\n",
       "#sk-container-id-1 label.sk-toggleable__label-arrow:before {\n",
       "  /* Arrow on the left of the label */\n",
       "  content: \"▸\";\n",
       "  float: left;\n",
       "  margin-right: 0.25em;\n",
       "  color: var(--sklearn-color-icon);\n",
       "}\n",
       "\n",
       "#sk-container-id-1 label.sk-toggleable__label-arrow:hover:before {\n",
       "  color: var(--sklearn-color-text);\n",
       "}\n",
       "\n",
       "/* Toggleable content - dropdown */\n",
       "\n",
       "#sk-container-id-1 div.sk-toggleable__content {\n",
       "  max-height: 0;\n",
       "  max-width: 0;\n",
       "  overflow: hidden;\n",
       "  text-align: left;\n",
       "  /* unfitted */\n",
       "  background-color: var(--sklearn-color-unfitted-level-0);\n",
       "}\n",
       "\n",
       "#sk-container-id-1 div.sk-toggleable__content.fitted {\n",
       "  /* fitted */\n",
       "  background-color: var(--sklearn-color-fitted-level-0);\n",
       "}\n",
       "\n",
       "#sk-container-id-1 div.sk-toggleable__content pre {\n",
       "  margin: 0.2em;\n",
       "  border-radius: 0.25em;\n",
       "  color: var(--sklearn-color-text);\n",
       "  /* unfitted */\n",
       "  background-color: var(--sklearn-color-unfitted-level-0);\n",
       "}\n",
       "\n",
       "#sk-container-id-1 div.sk-toggleable__content.fitted pre {\n",
       "  /* unfitted */\n",
       "  background-color: var(--sklearn-color-fitted-level-0);\n",
       "}\n",
       "\n",
       "#sk-container-id-1 input.sk-toggleable__control:checked~div.sk-toggleable__content {\n",
       "  /* Expand drop-down */\n",
       "  max-height: 200px;\n",
       "  max-width: 100%;\n",
       "  overflow: auto;\n",
       "}\n",
       "\n",
       "#sk-container-id-1 input.sk-toggleable__control:checked~label.sk-toggleable__label-arrow:before {\n",
       "  content: \"▾\";\n",
       "}\n",
       "\n",
       "/* Pipeline/ColumnTransformer-specific style */\n",
       "\n",
       "#sk-container-id-1 div.sk-label input.sk-toggleable__control:checked~label.sk-toggleable__label {\n",
       "  color: var(--sklearn-color-text);\n",
       "  background-color: var(--sklearn-color-unfitted-level-2);\n",
       "}\n",
       "\n",
       "#sk-container-id-1 div.sk-label.fitted input.sk-toggleable__control:checked~label.sk-toggleable__label {\n",
       "  background-color: var(--sklearn-color-fitted-level-2);\n",
       "}\n",
       "\n",
       "/* Estimator-specific style */\n",
       "\n",
       "/* Colorize estimator box */\n",
       "#sk-container-id-1 div.sk-estimator input.sk-toggleable__control:checked~label.sk-toggleable__label {\n",
       "  /* unfitted */\n",
       "  background-color: var(--sklearn-color-unfitted-level-2);\n",
       "}\n",
       "\n",
       "#sk-container-id-1 div.sk-estimator.fitted input.sk-toggleable__control:checked~label.sk-toggleable__label {\n",
       "  /* fitted */\n",
       "  background-color: var(--sklearn-color-fitted-level-2);\n",
       "}\n",
       "\n",
       "#sk-container-id-1 div.sk-label label.sk-toggleable__label,\n",
       "#sk-container-id-1 div.sk-label label {\n",
       "  /* The background is the default theme color */\n",
       "  color: var(--sklearn-color-text-on-default-background);\n",
       "}\n",
       "\n",
       "/* On hover, darken the color of the background */\n",
       "#sk-container-id-1 div.sk-label:hover label.sk-toggleable__label {\n",
       "  color: var(--sklearn-color-text);\n",
       "  background-color: var(--sklearn-color-unfitted-level-2);\n",
       "}\n",
       "\n",
       "/* Label box, darken color on hover, fitted */\n",
       "#sk-container-id-1 div.sk-label.fitted:hover label.sk-toggleable__label.fitted {\n",
       "  color: var(--sklearn-color-text);\n",
       "  background-color: var(--sklearn-color-fitted-level-2);\n",
       "}\n",
       "\n",
       "/* Estimator label */\n",
       "\n",
       "#sk-container-id-1 div.sk-label label {\n",
       "  font-family: monospace;\n",
       "  font-weight: bold;\n",
       "  display: inline-block;\n",
       "  line-height: 1.2em;\n",
       "}\n",
       "\n",
       "#sk-container-id-1 div.sk-label-container {\n",
       "  text-align: center;\n",
       "}\n",
       "\n",
       "/* Estimator-specific */\n",
       "#sk-container-id-1 div.sk-estimator {\n",
       "  font-family: monospace;\n",
       "  border: 1px dotted var(--sklearn-color-border-box);\n",
       "  border-radius: 0.25em;\n",
       "  box-sizing: border-box;\n",
       "  margin-bottom: 0.5em;\n",
       "  /* unfitted */\n",
       "  background-color: var(--sklearn-color-unfitted-level-0);\n",
       "}\n",
       "\n",
       "#sk-container-id-1 div.sk-estimator.fitted {\n",
       "  /* fitted */\n",
       "  background-color: var(--sklearn-color-fitted-level-0);\n",
       "}\n",
       "\n",
       "/* on hover */\n",
       "#sk-container-id-1 div.sk-estimator:hover {\n",
       "  /* unfitted */\n",
       "  background-color: var(--sklearn-color-unfitted-level-2);\n",
       "}\n",
       "\n",
       "#sk-container-id-1 div.sk-estimator.fitted:hover {\n",
       "  /* fitted */\n",
       "  background-color: var(--sklearn-color-fitted-level-2);\n",
       "}\n",
       "\n",
       "/* Specification for estimator info (e.g. \"i\" and \"?\") */\n",
       "\n",
       "/* Common style for \"i\" and \"?\" */\n",
       "\n",
       ".sk-estimator-doc-link,\n",
       "a:link.sk-estimator-doc-link,\n",
       "a:visited.sk-estimator-doc-link {\n",
       "  float: right;\n",
       "  font-size: smaller;\n",
       "  line-height: 1em;\n",
       "  font-family: monospace;\n",
       "  background-color: var(--sklearn-color-background);\n",
       "  border-radius: 1em;\n",
       "  height: 1em;\n",
       "  width: 1em;\n",
       "  text-decoration: none !important;\n",
       "  margin-left: 1ex;\n",
       "  /* unfitted */\n",
       "  border: var(--sklearn-color-unfitted-level-1) 1pt solid;\n",
       "  color: var(--sklearn-color-unfitted-level-1);\n",
       "}\n",
       "\n",
       ".sk-estimator-doc-link.fitted,\n",
       "a:link.sk-estimator-doc-link.fitted,\n",
       "a:visited.sk-estimator-doc-link.fitted {\n",
       "  /* fitted */\n",
       "  border: var(--sklearn-color-fitted-level-1) 1pt solid;\n",
       "  color: var(--sklearn-color-fitted-level-1);\n",
       "}\n",
       "\n",
       "/* On hover */\n",
       "div.sk-estimator:hover .sk-estimator-doc-link:hover,\n",
       ".sk-estimator-doc-link:hover,\n",
       "div.sk-label-container:hover .sk-estimator-doc-link:hover,\n",
       ".sk-estimator-doc-link:hover {\n",
       "  /* unfitted */\n",
       "  background-color: var(--sklearn-color-unfitted-level-3);\n",
       "  color: var(--sklearn-color-background);\n",
       "  text-decoration: none;\n",
       "}\n",
       "\n",
       "div.sk-estimator.fitted:hover .sk-estimator-doc-link.fitted:hover,\n",
       ".sk-estimator-doc-link.fitted:hover,\n",
       "div.sk-label-container:hover .sk-estimator-doc-link.fitted:hover,\n",
       ".sk-estimator-doc-link.fitted:hover {\n",
       "  /* fitted */\n",
       "  background-color: var(--sklearn-color-fitted-level-3);\n",
       "  color: var(--sklearn-color-background);\n",
       "  text-decoration: none;\n",
       "}\n",
       "\n",
       "/* Span, style for the box shown on hovering the info icon */\n",
       ".sk-estimator-doc-link span {\n",
       "  display: none;\n",
       "  z-index: 9999;\n",
       "  position: relative;\n",
       "  font-weight: normal;\n",
       "  right: .2ex;\n",
       "  padding: .5ex;\n",
       "  margin: .5ex;\n",
       "  width: min-content;\n",
       "  min-width: 20ex;\n",
       "  max-width: 50ex;\n",
       "  color: var(--sklearn-color-text);\n",
       "  box-shadow: 2pt 2pt 4pt #999;\n",
       "  /* unfitted */\n",
       "  background: var(--sklearn-color-unfitted-level-0);\n",
       "  border: .5pt solid var(--sklearn-color-unfitted-level-3);\n",
       "}\n",
       "\n",
       ".sk-estimator-doc-link.fitted span {\n",
       "  /* fitted */\n",
       "  background: var(--sklearn-color-fitted-level-0);\n",
       "  border: var(--sklearn-color-fitted-level-3);\n",
       "}\n",
       "\n",
       ".sk-estimator-doc-link:hover span {\n",
       "  display: block;\n",
       "}\n",
       "\n",
       "/* \"?\"-specific style due to the `<a>` HTML tag */\n",
       "\n",
       "#sk-container-id-1 a.estimator_doc_link {\n",
       "  float: right;\n",
       "  font-size: 1rem;\n",
       "  line-height: 1em;\n",
       "  font-family: monospace;\n",
       "  background-color: var(--sklearn-color-background);\n",
       "  border-radius: 1rem;\n",
       "  height: 1rem;\n",
       "  width: 1rem;\n",
       "  text-decoration: none;\n",
       "  /* unfitted */\n",
       "  color: var(--sklearn-color-unfitted-level-1);\n",
       "  border: var(--sklearn-color-unfitted-level-1) 1pt solid;\n",
       "}\n",
       "\n",
       "#sk-container-id-1 a.estimator_doc_link.fitted {\n",
       "  /* fitted */\n",
       "  border: var(--sklearn-color-fitted-level-1) 1pt solid;\n",
       "  color: var(--sklearn-color-fitted-level-1);\n",
       "}\n",
       "\n",
       "/* On hover */\n",
       "#sk-container-id-1 a.estimator_doc_link:hover {\n",
       "  /* unfitted */\n",
       "  background-color: var(--sklearn-color-unfitted-level-3);\n",
       "  color: var(--sklearn-color-background);\n",
       "  text-decoration: none;\n",
       "}\n",
       "\n",
       "#sk-container-id-1 a.estimator_doc_link.fitted:hover {\n",
       "  /* fitted */\n",
       "  background-color: var(--sklearn-color-fitted-level-3);\n",
       "}\n",
       "</style><div id=\"sk-container-id-1\" class=\"sk-top-container\"><div class=\"sk-text-repr-fallback\"><pre>LinearRegression()</pre><b>In a Jupyter environment, please rerun this cell to show the HTML representation or trust the notebook. <br />On GitHub, the HTML representation is unable to render, please try loading this page with nbviewer.org.</b></div><div class=\"sk-container\" hidden><div class=\"sk-item\"><div class=\"sk-estimator fitted sk-toggleable\"><input class=\"sk-toggleable__control sk-hidden--visually\" id=\"sk-estimator-id-1\" type=\"checkbox\" checked><label for=\"sk-estimator-id-1\" class=\"sk-toggleable__label fitted sk-toggleable__label-arrow fitted\">&nbsp;&nbsp;LinearRegression<a class=\"sk-estimator-doc-link fitted\" rel=\"noreferrer\" target=\"_blank\" href=\"https://scikit-learn.org/1.5/modules/generated/sklearn.linear_model.LinearRegression.html\">?<span>Documentation for LinearRegression</span></a><span class=\"sk-estimator-doc-link fitted\">i<span>Fitted</span></span></label><div class=\"sk-toggleable__content fitted\"><pre>LinearRegression()</pre></div> </div></div></div></div>"
      ],
      "text/plain": [
       "LinearRegression()"
      ]
     },
     "execution_count": 138,
     "metadata": {},
     "output_type": "execute_result"
    }
   ],
   "source": [
    "from sklearn.linear_model import LinearRegression\n",
    "\n",
    "# Create and train the linear regression model\n",
    "lr = LinearRegression()\n",
    "lr.fit(X_train_processed, y_train)"
   ]
  },
  {
   "cell_type": "markdown",
   "id": "e00f99e9-704a-418e-a20e-59bf534549bb",
   "metadata": {},
   "source": [
    "#### Evaluation"
   ]
  },
  {
   "cell_type": "code",
   "execution_count": 139,
   "id": "96b82e7c-a666-468c-ba2a-06884487efd0",
   "metadata": {},
   "outputs": [
    {
     "name": "stdout",
     "output_type": "stream",
     "text": [
      "Root Mean Squared Error (RMSE): 17.2162\n",
      "R²: 0.8274\n",
      "Adjusted R²: 0.8272\n"
     ]
    }
   ],
   "source": [
    "from sklearn.metrics import mean_squared_error, r2_score\n",
    "import numpy as np\n",
    "\n",
    "# Make predictions on the test set\n",
    "y_pred = lr.predict(X_test_processed)\n",
    "\n",
    "# Calculate metrics\n",
    "mse = mean_squared_error(y_test, y_pred)\n",
    "rmse = np.sqrt(mse)\n",
    "r2 = r2_score(y_test, y_pred)\n",
    "\n",
    "# Calculate Adjusted R²\n",
    "n = len(y_test)  # Number of observations\n",
    "p = X_test.shape[1]  # Number of predictors (features)\n",
    "adjusted_r2 = 1 - (1 - r2) * (n - 1) / (n - p - 1)\n",
    "\n",
    "# Print metrics in the desired format\n",
    "print(f'Root Mean Squared Error (RMSE): {rmse:.4f}')\n",
    "print(f'R²: {r2:.4f}')\n",
    "print(f'Adjusted R²: {adjusted_r2:.4f}')"
   ]
  },
  {
   "cell_type": "markdown",
   "id": "3d5eb9cb-6fc7-4885-a04d-ea214c8c6320",
   "metadata": {
    "jp-MarkdownHeadingCollapsed": true
   },
   "source": [
    "### 3.6.3 Linear Model with Regularization and GridSearch"
   ]
  },
  {
   "cell_type": "code",
   "execution_count": 140,
   "id": "4584d1d1-7036-4e95-a16a-1d6acc3267e4",
   "metadata": {},
   "outputs": [
    {
     "name": "stdout",
     "output_type": "stream",
     "text": [
      "Best alpha (regularization strength): 0.1\n",
      "Best L1 ratio (L1/L2 mix): 1\n"
     ]
    }
   ],
   "source": [
    "from sklearn.linear_model import ElasticNet\n",
    "from sklearn.model_selection import GridSearchCV\n",
    "\n",
    "# Define the model\n",
    "elastic_net = ElasticNet()\n",
    "\n",
    "# Define the parameter grid\n",
    "param_grid = {'alpha':[0.1,1,5,10,50,100],\n",
    "              'l1_ratio':[.1, .5, .7, .9, .95, .99, 1]}\n",
    "\n",
    "# verbose number a personal preference\n",
    "grid_model = GridSearchCV(estimator=elastic_net,\n",
    "                          param_grid=param_grid,\n",
    "                          scoring='neg_root_mean_squared_error',\n",
    "                          cv=5)\n",
    "\n",
    "# Fit the model to the scaled training data\n",
    "grid_model.fit(X_train_processed, y_train)\n",
    "\n",
    "# Get the best parameters and score\n",
    "# best_alpha = grid_model.best_params_['alpha']\n",
    "# best_l1_ratio = grid_model.best_params_['l1_ratio']\n",
    "# best_rmse = grid_model.best_score_\n",
    "\n",
    "print(f'Best alpha (regularization strength): {grid_model.best_params_['alpha']}')\n",
    "print(f'Best L1 ratio (L1/L2 mix): {grid_model.best_params_['l1_ratio']}')"
   ]
  },
  {
   "cell_type": "code",
   "execution_count": 141,
   "id": "b1da6d50-2b1e-4318-b189-753ce46b7966",
   "metadata": {},
   "outputs": [
    {
     "name": "stdout",
     "output_type": "stream",
     "text": [
      "Root Mean Squared Error (RMSE): 17.2978\n",
      "R²: 0.8258\n",
      "Adjusted R²: 0.8256\n"
     ]
    }
   ],
   "source": [
    "from sklearn.metrics import root_mean_squared_error, r2_score\n",
    "import numpy as np\n",
    "\n",
    "# Make predictions on the test set using the best estimator from the grid search\n",
    "y_pred = grid_model.best_estimator_.predict(X_test_processed)\n",
    "\n",
    "# Calculate metrics\n",
    "rmse = root_mean_squared_error(y_test, y_pred)\n",
    "r2 = r2_score(y_test, y_pred)\n",
    "\n",
    "# Calculate Adjusted R²\n",
    "n = len(y_test)  # Number of observations\n",
    "p = X_test.shape[1]  # Number of predictors (features)\n",
    "adjusted_r2 = 1 - (1 - r2) * (n - 1) / (n - p - 1)\n",
    "\n",
    "# Print metrics in the desired format\n",
    "print(f'Root Mean Squared Error (RMSE): {rmse:.4f}')\n",
    "print(f'R²: {r2:.4f}')\n",
    "print(f'Adjusted R²: {adjusted_r2:.4f}')"
   ]
  },
  {
   "cell_type": "markdown",
   "id": "51b04db0-f241-460c-8716-516239b26581",
   "metadata": {
    "jp-MarkdownHeadingCollapsed": true
   },
   "source": [
    "### 3.6.4 Final Model"
   ]
  },
  {
   "cell_type": "code",
   "execution_count": 142,
   "id": "a530756b-b2b0-470a-9e7e-4be6213212b9",
   "metadata": {},
   "outputs": [
    {
     "data": {
      "text/html": [
       "<style>#sk-container-id-2 {\n",
       "  /* Definition of color scheme common for light and dark mode */\n",
       "  --sklearn-color-text: black;\n",
       "  --sklearn-color-line: gray;\n",
       "  /* Definition of color scheme for unfitted estimators */\n",
       "  --sklearn-color-unfitted-level-0: #fff5e6;\n",
       "  --sklearn-color-unfitted-level-1: #f6e4d2;\n",
       "  --sklearn-color-unfitted-level-2: #ffe0b3;\n",
       "  --sklearn-color-unfitted-level-3: chocolate;\n",
       "  /* Definition of color scheme for fitted estimators */\n",
       "  --sklearn-color-fitted-level-0: #f0f8ff;\n",
       "  --sklearn-color-fitted-level-1: #d4ebff;\n",
       "  --sklearn-color-fitted-level-2: #b3dbfd;\n",
       "  --sklearn-color-fitted-level-3: cornflowerblue;\n",
       "\n",
       "  /* Specific color for light theme */\n",
       "  --sklearn-color-text-on-default-background: var(--sg-text-color, var(--theme-code-foreground, var(--jp-content-font-color1, black)));\n",
       "  --sklearn-color-background: var(--sg-background-color, var(--theme-background, var(--jp-layout-color0, white)));\n",
       "  --sklearn-color-border-box: var(--sg-text-color, var(--theme-code-foreground, var(--jp-content-font-color1, black)));\n",
       "  --sklearn-color-icon: #696969;\n",
       "\n",
       "  @media (prefers-color-scheme: dark) {\n",
       "    /* Redefinition of color scheme for dark theme */\n",
       "    --sklearn-color-text-on-default-background: var(--sg-text-color, var(--theme-code-foreground, var(--jp-content-font-color1, white)));\n",
       "    --sklearn-color-background: var(--sg-background-color, var(--theme-background, var(--jp-layout-color0, #111)));\n",
       "    --sklearn-color-border-box: var(--sg-text-color, var(--theme-code-foreground, var(--jp-content-font-color1, white)));\n",
       "    --sklearn-color-icon: #878787;\n",
       "  }\n",
       "}\n",
       "\n",
       "#sk-container-id-2 {\n",
       "  color: var(--sklearn-color-text);\n",
       "}\n",
       "\n",
       "#sk-container-id-2 pre {\n",
       "  padding: 0;\n",
       "}\n",
       "\n",
       "#sk-container-id-2 input.sk-hidden--visually {\n",
       "  border: 0;\n",
       "  clip: rect(1px 1px 1px 1px);\n",
       "  clip: rect(1px, 1px, 1px, 1px);\n",
       "  height: 1px;\n",
       "  margin: -1px;\n",
       "  overflow: hidden;\n",
       "  padding: 0;\n",
       "  position: absolute;\n",
       "  width: 1px;\n",
       "}\n",
       "\n",
       "#sk-container-id-2 div.sk-dashed-wrapped {\n",
       "  border: 1px dashed var(--sklearn-color-line);\n",
       "  margin: 0 0.4em 0.5em 0.4em;\n",
       "  box-sizing: border-box;\n",
       "  padding-bottom: 0.4em;\n",
       "  background-color: var(--sklearn-color-background);\n",
       "}\n",
       "\n",
       "#sk-container-id-2 div.sk-container {\n",
       "  /* jupyter's `normalize.less` sets `[hidden] { display: none; }`\n",
       "     but bootstrap.min.css set `[hidden] { display: none !important; }`\n",
       "     so we also need the `!important` here to be able to override the\n",
       "     default hidden behavior on the sphinx rendered scikit-learn.org.\n",
       "     See: https://github.com/scikit-learn/scikit-learn/issues/21755 */\n",
       "  display: inline-block !important;\n",
       "  position: relative;\n",
       "}\n",
       "\n",
       "#sk-container-id-2 div.sk-text-repr-fallback {\n",
       "  display: none;\n",
       "}\n",
       "\n",
       "div.sk-parallel-item,\n",
       "div.sk-serial,\n",
       "div.sk-item {\n",
       "  /* draw centered vertical line to link estimators */\n",
       "  background-image: linear-gradient(var(--sklearn-color-text-on-default-background), var(--sklearn-color-text-on-default-background));\n",
       "  background-size: 2px 100%;\n",
       "  background-repeat: no-repeat;\n",
       "  background-position: center center;\n",
       "}\n",
       "\n",
       "/* Parallel-specific style estimator block */\n",
       "\n",
       "#sk-container-id-2 div.sk-parallel-item::after {\n",
       "  content: \"\";\n",
       "  width: 100%;\n",
       "  border-bottom: 2px solid var(--sklearn-color-text-on-default-background);\n",
       "  flex-grow: 1;\n",
       "}\n",
       "\n",
       "#sk-container-id-2 div.sk-parallel {\n",
       "  display: flex;\n",
       "  align-items: stretch;\n",
       "  justify-content: center;\n",
       "  background-color: var(--sklearn-color-background);\n",
       "  position: relative;\n",
       "}\n",
       "\n",
       "#sk-container-id-2 div.sk-parallel-item {\n",
       "  display: flex;\n",
       "  flex-direction: column;\n",
       "}\n",
       "\n",
       "#sk-container-id-2 div.sk-parallel-item:first-child::after {\n",
       "  align-self: flex-end;\n",
       "  width: 50%;\n",
       "}\n",
       "\n",
       "#sk-container-id-2 div.sk-parallel-item:last-child::after {\n",
       "  align-self: flex-start;\n",
       "  width: 50%;\n",
       "}\n",
       "\n",
       "#sk-container-id-2 div.sk-parallel-item:only-child::after {\n",
       "  width: 0;\n",
       "}\n",
       "\n",
       "/* Serial-specific style estimator block */\n",
       "\n",
       "#sk-container-id-2 div.sk-serial {\n",
       "  display: flex;\n",
       "  flex-direction: column;\n",
       "  align-items: center;\n",
       "  background-color: var(--sklearn-color-background);\n",
       "  padding-right: 1em;\n",
       "  padding-left: 1em;\n",
       "}\n",
       "\n",
       "\n",
       "/* Toggleable style: style used for estimator/Pipeline/ColumnTransformer box that is\n",
       "clickable and can be expanded/collapsed.\n",
       "- Pipeline and ColumnTransformer use this feature and define the default style\n",
       "- Estimators will overwrite some part of the style using the `sk-estimator` class\n",
       "*/\n",
       "\n",
       "/* Pipeline and ColumnTransformer style (default) */\n",
       "\n",
       "#sk-container-id-2 div.sk-toggleable {\n",
       "  /* Default theme specific background. It is overwritten whether we have a\n",
       "  specific estimator or a Pipeline/ColumnTransformer */\n",
       "  background-color: var(--sklearn-color-background);\n",
       "}\n",
       "\n",
       "/* Toggleable label */\n",
       "#sk-container-id-2 label.sk-toggleable__label {\n",
       "  cursor: pointer;\n",
       "  display: block;\n",
       "  width: 100%;\n",
       "  margin-bottom: 0;\n",
       "  padding: 0.5em;\n",
       "  box-sizing: border-box;\n",
       "  text-align: center;\n",
       "}\n",
       "\n",
       "#sk-container-id-2 label.sk-toggleable__label-arrow:before {\n",
       "  /* Arrow on the left of the label */\n",
       "  content: \"▸\";\n",
       "  float: left;\n",
       "  margin-right: 0.25em;\n",
       "  color: var(--sklearn-color-icon);\n",
       "}\n",
       "\n",
       "#sk-container-id-2 label.sk-toggleable__label-arrow:hover:before {\n",
       "  color: var(--sklearn-color-text);\n",
       "}\n",
       "\n",
       "/* Toggleable content - dropdown */\n",
       "\n",
       "#sk-container-id-2 div.sk-toggleable__content {\n",
       "  max-height: 0;\n",
       "  max-width: 0;\n",
       "  overflow: hidden;\n",
       "  text-align: left;\n",
       "  /* unfitted */\n",
       "  background-color: var(--sklearn-color-unfitted-level-0);\n",
       "}\n",
       "\n",
       "#sk-container-id-2 div.sk-toggleable__content.fitted {\n",
       "  /* fitted */\n",
       "  background-color: var(--sklearn-color-fitted-level-0);\n",
       "}\n",
       "\n",
       "#sk-container-id-2 div.sk-toggleable__content pre {\n",
       "  margin: 0.2em;\n",
       "  border-radius: 0.25em;\n",
       "  color: var(--sklearn-color-text);\n",
       "  /* unfitted */\n",
       "  background-color: var(--sklearn-color-unfitted-level-0);\n",
       "}\n",
       "\n",
       "#sk-container-id-2 div.sk-toggleable__content.fitted pre {\n",
       "  /* unfitted */\n",
       "  background-color: var(--sklearn-color-fitted-level-0);\n",
       "}\n",
       "\n",
       "#sk-container-id-2 input.sk-toggleable__control:checked~div.sk-toggleable__content {\n",
       "  /* Expand drop-down */\n",
       "  max-height: 200px;\n",
       "  max-width: 100%;\n",
       "  overflow: auto;\n",
       "}\n",
       "\n",
       "#sk-container-id-2 input.sk-toggleable__control:checked~label.sk-toggleable__label-arrow:before {\n",
       "  content: \"▾\";\n",
       "}\n",
       "\n",
       "/* Pipeline/ColumnTransformer-specific style */\n",
       "\n",
       "#sk-container-id-2 div.sk-label input.sk-toggleable__control:checked~label.sk-toggleable__label {\n",
       "  color: var(--sklearn-color-text);\n",
       "  background-color: var(--sklearn-color-unfitted-level-2);\n",
       "}\n",
       "\n",
       "#sk-container-id-2 div.sk-label.fitted input.sk-toggleable__control:checked~label.sk-toggleable__label {\n",
       "  background-color: var(--sklearn-color-fitted-level-2);\n",
       "}\n",
       "\n",
       "/* Estimator-specific style */\n",
       "\n",
       "/* Colorize estimator box */\n",
       "#sk-container-id-2 div.sk-estimator input.sk-toggleable__control:checked~label.sk-toggleable__label {\n",
       "  /* unfitted */\n",
       "  background-color: var(--sklearn-color-unfitted-level-2);\n",
       "}\n",
       "\n",
       "#sk-container-id-2 div.sk-estimator.fitted input.sk-toggleable__control:checked~label.sk-toggleable__label {\n",
       "  /* fitted */\n",
       "  background-color: var(--sklearn-color-fitted-level-2);\n",
       "}\n",
       "\n",
       "#sk-container-id-2 div.sk-label label.sk-toggleable__label,\n",
       "#sk-container-id-2 div.sk-label label {\n",
       "  /* The background is the default theme color */\n",
       "  color: var(--sklearn-color-text-on-default-background);\n",
       "}\n",
       "\n",
       "/* On hover, darken the color of the background */\n",
       "#sk-container-id-2 div.sk-label:hover label.sk-toggleable__label {\n",
       "  color: var(--sklearn-color-text);\n",
       "  background-color: var(--sklearn-color-unfitted-level-2);\n",
       "}\n",
       "\n",
       "/* Label box, darken color on hover, fitted */\n",
       "#sk-container-id-2 div.sk-label.fitted:hover label.sk-toggleable__label.fitted {\n",
       "  color: var(--sklearn-color-text);\n",
       "  background-color: var(--sklearn-color-fitted-level-2);\n",
       "}\n",
       "\n",
       "/* Estimator label */\n",
       "\n",
       "#sk-container-id-2 div.sk-label label {\n",
       "  font-family: monospace;\n",
       "  font-weight: bold;\n",
       "  display: inline-block;\n",
       "  line-height: 1.2em;\n",
       "}\n",
       "\n",
       "#sk-container-id-2 div.sk-label-container {\n",
       "  text-align: center;\n",
       "}\n",
       "\n",
       "/* Estimator-specific */\n",
       "#sk-container-id-2 div.sk-estimator {\n",
       "  font-family: monospace;\n",
       "  border: 1px dotted var(--sklearn-color-border-box);\n",
       "  border-radius: 0.25em;\n",
       "  box-sizing: border-box;\n",
       "  margin-bottom: 0.5em;\n",
       "  /* unfitted */\n",
       "  background-color: var(--sklearn-color-unfitted-level-0);\n",
       "}\n",
       "\n",
       "#sk-container-id-2 div.sk-estimator.fitted {\n",
       "  /* fitted */\n",
       "  background-color: var(--sklearn-color-fitted-level-0);\n",
       "}\n",
       "\n",
       "/* on hover */\n",
       "#sk-container-id-2 div.sk-estimator:hover {\n",
       "  /* unfitted */\n",
       "  background-color: var(--sklearn-color-unfitted-level-2);\n",
       "}\n",
       "\n",
       "#sk-container-id-2 div.sk-estimator.fitted:hover {\n",
       "  /* fitted */\n",
       "  background-color: var(--sklearn-color-fitted-level-2);\n",
       "}\n",
       "\n",
       "/* Specification for estimator info (e.g. \"i\" and \"?\") */\n",
       "\n",
       "/* Common style for \"i\" and \"?\" */\n",
       "\n",
       ".sk-estimator-doc-link,\n",
       "a:link.sk-estimator-doc-link,\n",
       "a:visited.sk-estimator-doc-link {\n",
       "  float: right;\n",
       "  font-size: smaller;\n",
       "  line-height: 1em;\n",
       "  font-family: monospace;\n",
       "  background-color: var(--sklearn-color-background);\n",
       "  border-radius: 1em;\n",
       "  height: 1em;\n",
       "  width: 1em;\n",
       "  text-decoration: none !important;\n",
       "  margin-left: 1ex;\n",
       "  /* unfitted */\n",
       "  border: var(--sklearn-color-unfitted-level-1) 1pt solid;\n",
       "  color: var(--sklearn-color-unfitted-level-1);\n",
       "}\n",
       "\n",
       ".sk-estimator-doc-link.fitted,\n",
       "a:link.sk-estimator-doc-link.fitted,\n",
       "a:visited.sk-estimator-doc-link.fitted {\n",
       "  /* fitted */\n",
       "  border: var(--sklearn-color-fitted-level-1) 1pt solid;\n",
       "  color: var(--sklearn-color-fitted-level-1);\n",
       "}\n",
       "\n",
       "/* On hover */\n",
       "div.sk-estimator:hover .sk-estimator-doc-link:hover,\n",
       ".sk-estimator-doc-link:hover,\n",
       "div.sk-label-container:hover .sk-estimator-doc-link:hover,\n",
       ".sk-estimator-doc-link:hover {\n",
       "  /* unfitted */\n",
       "  background-color: var(--sklearn-color-unfitted-level-3);\n",
       "  color: var(--sklearn-color-background);\n",
       "  text-decoration: none;\n",
       "}\n",
       "\n",
       "div.sk-estimator.fitted:hover .sk-estimator-doc-link.fitted:hover,\n",
       ".sk-estimator-doc-link.fitted:hover,\n",
       "div.sk-label-container:hover .sk-estimator-doc-link.fitted:hover,\n",
       ".sk-estimator-doc-link.fitted:hover {\n",
       "  /* fitted */\n",
       "  background-color: var(--sklearn-color-fitted-level-3);\n",
       "  color: var(--sklearn-color-background);\n",
       "  text-decoration: none;\n",
       "}\n",
       "\n",
       "/* Span, style for the box shown on hovering the info icon */\n",
       ".sk-estimator-doc-link span {\n",
       "  display: none;\n",
       "  z-index: 9999;\n",
       "  position: relative;\n",
       "  font-weight: normal;\n",
       "  right: .2ex;\n",
       "  padding: .5ex;\n",
       "  margin: .5ex;\n",
       "  width: min-content;\n",
       "  min-width: 20ex;\n",
       "  max-width: 50ex;\n",
       "  color: var(--sklearn-color-text);\n",
       "  box-shadow: 2pt 2pt 4pt #999;\n",
       "  /* unfitted */\n",
       "  background: var(--sklearn-color-unfitted-level-0);\n",
       "  border: .5pt solid var(--sklearn-color-unfitted-level-3);\n",
       "}\n",
       "\n",
       ".sk-estimator-doc-link.fitted span {\n",
       "  /* fitted */\n",
       "  background: var(--sklearn-color-fitted-level-0);\n",
       "  border: var(--sklearn-color-fitted-level-3);\n",
       "}\n",
       "\n",
       ".sk-estimator-doc-link:hover span {\n",
       "  display: block;\n",
       "}\n",
       "\n",
       "/* \"?\"-specific style due to the `<a>` HTML tag */\n",
       "\n",
       "#sk-container-id-2 a.estimator_doc_link {\n",
       "  float: right;\n",
       "  font-size: 1rem;\n",
       "  line-height: 1em;\n",
       "  font-family: monospace;\n",
       "  background-color: var(--sklearn-color-background);\n",
       "  border-radius: 1rem;\n",
       "  height: 1rem;\n",
       "  width: 1rem;\n",
       "  text-decoration: none;\n",
       "  /* unfitted */\n",
       "  color: var(--sklearn-color-unfitted-level-1);\n",
       "  border: var(--sklearn-color-unfitted-level-1) 1pt solid;\n",
       "}\n",
       "\n",
       "#sk-container-id-2 a.estimator_doc_link.fitted {\n",
       "  /* fitted */\n",
       "  border: var(--sklearn-color-fitted-level-1) 1pt solid;\n",
       "  color: var(--sklearn-color-fitted-level-1);\n",
       "}\n",
       "\n",
       "/* On hover */\n",
       "#sk-container-id-2 a.estimator_doc_link:hover {\n",
       "  /* unfitted */\n",
       "  background-color: var(--sklearn-color-unfitted-level-3);\n",
       "  color: var(--sklearn-color-background);\n",
       "  text-decoration: none;\n",
       "}\n",
       "\n",
       "#sk-container-id-2 a.estimator_doc_link.fitted:hover {\n",
       "  /* fitted */\n",
       "  background-color: var(--sklearn-color-fitted-level-3);\n",
       "}\n",
       "</style><div id=\"sk-container-id-2\" class=\"sk-top-container\"><div class=\"sk-text-repr-fallback\"><pre>Pipeline(steps=[(&#x27;preprocessor&#x27;,\n",
       "                 ColumnTransformer(transformers=[(&#x27;num&#x27;, StandardScaler(),\n",
       "                                                  [&#x27;dep_delay&#x27;,\n",
       "                                                   &#x27;origin_wind_speed&#x27;,\n",
       "                                                   &#x27;dest_wind_speed&#x27;,\n",
       "                                                   &#x27;distance&#x27;]),\n",
       "                                                 (&#x27;cat&#x27;,\n",
       "                                                  OneHotEncoder(handle_unknown=&#x27;ignore&#x27;),\n",
       "                                                  [&#x27;carrier&#x27;])])),\n",
       "                (&#x27;model&#x27;, LinearRegression())])</pre><b>In a Jupyter environment, please rerun this cell to show the HTML representation or trust the notebook. <br />On GitHub, the HTML representation is unable to render, please try loading this page with nbviewer.org.</b></div><div class=\"sk-container\" hidden><div class=\"sk-item sk-dashed-wrapped\"><div class=\"sk-label-container\"><div class=\"sk-label fitted sk-toggleable\"><input class=\"sk-toggleable__control sk-hidden--visually\" id=\"sk-estimator-id-2\" type=\"checkbox\" ><label for=\"sk-estimator-id-2\" class=\"sk-toggleable__label fitted sk-toggleable__label-arrow fitted\">&nbsp;&nbsp;Pipeline<a class=\"sk-estimator-doc-link fitted\" rel=\"noreferrer\" target=\"_blank\" href=\"https://scikit-learn.org/1.5/modules/generated/sklearn.pipeline.Pipeline.html\">?<span>Documentation for Pipeline</span></a><span class=\"sk-estimator-doc-link fitted\">i<span>Fitted</span></span></label><div class=\"sk-toggleable__content fitted\"><pre>Pipeline(steps=[(&#x27;preprocessor&#x27;,\n",
       "                 ColumnTransformer(transformers=[(&#x27;num&#x27;, StandardScaler(),\n",
       "                                                  [&#x27;dep_delay&#x27;,\n",
       "                                                   &#x27;origin_wind_speed&#x27;,\n",
       "                                                   &#x27;dest_wind_speed&#x27;,\n",
       "                                                   &#x27;distance&#x27;]),\n",
       "                                                 (&#x27;cat&#x27;,\n",
       "                                                  OneHotEncoder(handle_unknown=&#x27;ignore&#x27;),\n",
       "                                                  [&#x27;carrier&#x27;])])),\n",
       "                (&#x27;model&#x27;, LinearRegression())])</pre></div> </div></div><div class=\"sk-serial\"><div class=\"sk-item sk-dashed-wrapped\"><div class=\"sk-label-container\"><div class=\"sk-label fitted sk-toggleable\"><input class=\"sk-toggleable__control sk-hidden--visually\" id=\"sk-estimator-id-3\" type=\"checkbox\" ><label for=\"sk-estimator-id-3\" class=\"sk-toggleable__label fitted sk-toggleable__label-arrow fitted\">&nbsp;preprocessor: ColumnTransformer<a class=\"sk-estimator-doc-link fitted\" rel=\"noreferrer\" target=\"_blank\" href=\"https://scikit-learn.org/1.5/modules/generated/sklearn.compose.ColumnTransformer.html\">?<span>Documentation for preprocessor: ColumnTransformer</span></a></label><div class=\"sk-toggleable__content fitted\"><pre>ColumnTransformer(transformers=[(&#x27;num&#x27;, StandardScaler(),\n",
       "                                 [&#x27;dep_delay&#x27;, &#x27;origin_wind_speed&#x27;,\n",
       "                                  &#x27;dest_wind_speed&#x27;, &#x27;distance&#x27;]),\n",
       "                                (&#x27;cat&#x27;, OneHotEncoder(handle_unknown=&#x27;ignore&#x27;),\n",
       "                                 [&#x27;carrier&#x27;])])</pre></div> </div></div><div class=\"sk-parallel\"><div class=\"sk-parallel-item\"><div class=\"sk-item\"><div class=\"sk-label-container\"><div class=\"sk-label fitted sk-toggleable\"><input class=\"sk-toggleable__control sk-hidden--visually\" id=\"sk-estimator-id-4\" type=\"checkbox\" ><label for=\"sk-estimator-id-4\" class=\"sk-toggleable__label fitted sk-toggleable__label-arrow fitted\">num</label><div class=\"sk-toggleable__content fitted\"><pre>[&#x27;dep_delay&#x27;, &#x27;origin_wind_speed&#x27;, &#x27;dest_wind_speed&#x27;, &#x27;distance&#x27;]</pre></div> </div></div><div class=\"sk-serial\"><div class=\"sk-item\"><div class=\"sk-estimator fitted sk-toggleable\"><input class=\"sk-toggleable__control sk-hidden--visually\" id=\"sk-estimator-id-5\" type=\"checkbox\" ><label for=\"sk-estimator-id-5\" class=\"sk-toggleable__label fitted sk-toggleable__label-arrow fitted\">&nbsp;StandardScaler<a class=\"sk-estimator-doc-link fitted\" rel=\"noreferrer\" target=\"_blank\" href=\"https://scikit-learn.org/1.5/modules/generated/sklearn.preprocessing.StandardScaler.html\">?<span>Documentation for StandardScaler</span></a></label><div class=\"sk-toggleable__content fitted\"><pre>StandardScaler()</pre></div> </div></div></div></div></div><div class=\"sk-parallel-item\"><div class=\"sk-item\"><div class=\"sk-label-container\"><div class=\"sk-label fitted sk-toggleable\"><input class=\"sk-toggleable__control sk-hidden--visually\" id=\"sk-estimator-id-6\" type=\"checkbox\" ><label for=\"sk-estimator-id-6\" class=\"sk-toggleable__label fitted sk-toggleable__label-arrow fitted\">cat</label><div class=\"sk-toggleable__content fitted\"><pre>[&#x27;carrier&#x27;]</pre></div> </div></div><div class=\"sk-serial\"><div class=\"sk-item\"><div class=\"sk-estimator fitted sk-toggleable\"><input class=\"sk-toggleable__control sk-hidden--visually\" id=\"sk-estimator-id-7\" type=\"checkbox\" ><label for=\"sk-estimator-id-7\" class=\"sk-toggleable__label fitted sk-toggleable__label-arrow fitted\">&nbsp;OneHotEncoder<a class=\"sk-estimator-doc-link fitted\" rel=\"noreferrer\" target=\"_blank\" href=\"https://scikit-learn.org/1.5/modules/generated/sklearn.preprocessing.OneHotEncoder.html\">?<span>Documentation for OneHotEncoder</span></a></label><div class=\"sk-toggleable__content fitted\"><pre>OneHotEncoder(handle_unknown=&#x27;ignore&#x27;)</pre></div> </div></div></div></div></div></div></div><div class=\"sk-item\"><div class=\"sk-estimator fitted sk-toggleable\"><input class=\"sk-toggleable__control sk-hidden--visually\" id=\"sk-estimator-id-8\" type=\"checkbox\" ><label for=\"sk-estimator-id-8\" class=\"sk-toggleable__label fitted sk-toggleable__label-arrow fitted\">&nbsp;LinearRegression<a class=\"sk-estimator-doc-link fitted\" rel=\"noreferrer\" target=\"_blank\" href=\"https://scikit-learn.org/1.5/modules/generated/sklearn.linear_model.LinearRegression.html\">?<span>Documentation for LinearRegression</span></a></label><div class=\"sk-toggleable__content fitted\"><pre>LinearRegression()</pre></div> </div></div></div></div></div></div>"
      ],
      "text/plain": [
       "Pipeline(steps=[('preprocessor',\n",
       "                 ColumnTransformer(transformers=[('num', StandardScaler(),\n",
       "                                                  ['dep_delay',\n",
       "                                                   'origin_wind_speed',\n",
       "                                                   'dest_wind_speed',\n",
       "                                                   'distance']),\n",
       "                                                 ('cat',\n",
       "                                                  OneHotEncoder(handle_unknown='ignore'),\n",
       "                                                  ['carrier'])])),\n",
       "                ('model', LinearRegression())])"
      ]
     },
     "execution_count": 142,
     "metadata": {},
     "output_type": "execute_result"
    }
   ],
   "source": [
    "from sklearn.pipeline import Pipeline\n",
    "from sklearn.preprocessing import StandardScaler, OneHotEncoder\n",
    "from sklearn.compose import ColumnTransformer\n",
    "from sklearn.linear_model import LinearRegression\n",
    "import pickle\n",
    "\n",
    "X = df[['dep_delay', 'origin_wind_speed', 'dest_wind_speed', 'distance', 'carrier']]\n",
    "y = df['arr_delay']\n",
    "\n",
    "# Define the columns for scaling and encoding\n",
    "numeric_features = ['dep_delay', 'origin_wind_speed', 'dest_wind_speed', 'distance']\n",
    "categorical_features = ['carrier']  # Replace with your actual categorical feature names\n",
    "\n",
    "# Define the ColumnTransformer to apply different preprocessing to different columns\n",
    "preprocessor = ColumnTransformer(\n",
    "    transformers=[\n",
    "        ('num', StandardScaler(), numeric_features),\n",
    "        ('cat', OneHotEncoder(handle_unknown='ignore'), categorical_features)\n",
    "    ]\n",
    ")\n",
    "\n",
    "# Create a pipeline with the preprocessor and the linear regression model\n",
    "pipeline = Pipeline(steps=[\n",
    "    ('preprocessor', preprocessor),\n",
    "    ('model', LinearRegression())\n",
    "])\n",
    "\n",
    "# Fit the pipeline on the training data\n",
    "pipeline.fit(X, y)"
   ]
  },
  {
   "cell_type": "markdown",
   "id": "29549f49-0a26-45b9-bdb6-15af80c369e1",
   "metadata": {},
   "source": [
    "#### Saving the Model"
   ]
  },
  {
   "cell_type": "code",
   "execution_count": 143,
   "id": "74d45ad9-f159-4c65-b7ac-298c57d95f3e",
   "metadata": {},
   "outputs": [],
   "source": [
    "import pickle\n",
    "\n",
    "with open('../models/lr_model.pkl', 'wb') as file:\n",
    "    pickle.dump(pipeline, file)"
   ]
  },
  {
   "cell_type": "markdown",
   "id": "2637882d-390f-4226-a404-e941a53a6b1a",
   "metadata": {},
   "source": [
    "# Stop Spark Session"
   ]
  },
  {
   "cell_type": "code",
   "execution_count": 182,
   "id": "a3e8a2d4-b4bb-4664-b0e1-2778324e7531",
   "metadata": {},
   "outputs": [],
   "source": [
    "#spark.stop()"
   ]
  }
 ],
 "metadata": {
  "kernelspec": {
   "display_name": "PicPay Env",
   "language": "python",
   "name": "picpay_env"
  },
  "language_info": {
   "codemirror_mode": {
    "name": "ipython",
    "version": 3
   },
   "file_extension": ".py",
   "mimetype": "text/x-python",
   "name": "python",
   "nbconvert_exporter": "python",
   "pygments_lexer": "ipython3",
   "version": "3.12.4"
  }
 },
 "nbformat": 4,
 "nbformat_minor": 5
}
